{
 "cells": [
  {
   "cell_type": "code",
   "execution_count": 325,
   "id": "682a9033",
   "metadata": {},
   "outputs": [],
   "source": [
    "import tweepy\n",
    "import re\n",
    "from textblob import TextBlob\n",
    "import pandas as pd\n",
    "from pandas import DataFrame\n",
    "\n",
    "\n",
    "\n",
    "import numpy as np\n",
    "import joblib\n",
    "import pickle\n",
    "from sklearn import model_selection\n",
    "from sklearn.linear_model import LogisticRegression\n",
    "from sklearn.multiclass import OneVsRestClassifier\n",
    "from sklearn.naive_bayes import MultinomialNB\n",
    "from sklearn.metrics import classification_report\n",
    "from sklearn.model_selection import train_test_split\n",
    "from sklearn.feature_extraction.text import CountVectorizer\n",
    "from sklearn.feature_extraction.text import TfidfTransformer\n",
    "from sklearn.pipeline import Pipeline\n",
    "from sklearn.metrics import accuracy_score"
   ]
  },
  {
   "cell_type": "code",
   "execution_count": 326,
   "id": "a249445a",
   "metadata": {},
   "outputs": [],
   "source": [
    "api_key = 'FAQUNHC2FtBdXma5JwdbJsCt6'\n",
    "api_secret_key = 'f8ZyKeNNuHoe6JvpPvYQD9keagttbjARQvaDrAqWfpVW28V4EY'\n",
    "access_token = '1386283874901127168-2uJkEOsfczHSJB1tt598kBgvJ6ia5v'\n",
    "access_token_secret = 'GYlCd3SnlTxVVfUWKZSjBGWFGuQ4mqngvMJRZvvu5Mxhg'"
   ]
  },
  {
   "cell_type": "code",
   "execution_count": 327,
   "id": "c017c47d",
   "metadata": {},
   "outputs": [],
   "source": [
    "auth = tweepy.OAuthHandler(api_key,api_secret_key)\n",
    "auth.set_access_token(access_token,access_token_secret)\n",
    "api = tweepy.API(auth)"
   ]
  },
  {
   "cell_type": "code",
   "execution_count": 393,
   "id": "07ae9223",
   "metadata": {},
   "outputs": [],
   "source": [
    "hasilSearch = api.search(q=\"vaksin\",lang=\"en\", count=1000)"
   ]
  },
  {
   "cell_type": "code",
   "execution_count": 394,
   "id": "123df7cf",
   "metadata": {},
   "outputs": [],
   "source": [
    "hasil = []"
   ]
  },
  {
   "cell_type": "code",
   "execution_count": 395,
   "id": "233e856b",
   "metadata": {},
   "outputs": [],
   "source": [
    "for tweet in hasilSearch:\n",
    "    tweet_properties = {}\n",
    "    tweet_properties['tanggal_tweet'] = tweet.created_at\n",
    "    tweet_properties['pengguna'] = tweet.user.screen_name\n",
    "    tweet_properties['isi_tweet'] = tweet.text\n",
    "    tweet_bersih = \" \".join(re.sub(\"(@[A-Za-z0-9]+)|(^0-9A-Za-z \\t])|(\\w+:\\/\\/\\S+)\",\" \",tweet.text).split())\n",
    "    \n",
    "    analysis = TextBlob(tweet_bersih)\n",
    "    \n",
    "    if analysis.sentiment.polarity > 0.0:\n",
    "        tweet_properties[\"sentimen\"] = \"positif\"\n",
    "    elif analysis.sentiment.polarity == 0.0:\n",
    "        tweet_properties[\"sentimen\"] = \"netral\"\n",
    "    else:\n",
    "        tweet_properties[\"sentimen\"] = \"negatif\"\n",
    "    \n",
    "    if tweet.retweet_count > 0:\n",
    "        if tweet_properties not in hasil:\n",
    "            hasil.append(tweet_properties)\n",
    "    else:\n",
    "        hasil.append(tweet_properties)\n",
    "    \n",
    "#     print(tweet_properties)"
   ]
  },
  {
   "cell_type": "code",
   "execution_count": 396,
   "id": "56abe47d",
   "metadata": {},
   "outputs": [],
   "source": [
    "# hasil"
   ]
  },
  {
   "cell_type": "code",
   "execution_count": 397,
   "id": "e3fb60d6",
   "metadata": {},
   "outputs": [],
   "source": [
    "df =  DataFrame(data = hasil)"
   ]
  },
  {
   "cell_type": "code",
   "execution_count": 398,
   "id": "71f8e8e4",
   "metadata": {},
   "outputs": [
    {
     "data": {
      "text/html": [
       "<div>\n",
       "<style scoped>\n",
       "    .dataframe tbody tr th:only-of-type {\n",
       "        vertical-align: middle;\n",
       "    }\n",
       "\n",
       "    .dataframe tbody tr th {\n",
       "        vertical-align: top;\n",
       "    }\n",
       "\n",
       "    .dataframe thead th {\n",
       "        text-align: right;\n",
       "    }\n",
       "</style>\n",
       "<table border=\"1\" class=\"dataframe\">\n",
       "  <thead>\n",
       "    <tr style=\"text-align: right;\">\n",
       "      <th></th>\n",
       "      <th>tanggal_tweet</th>\n",
       "      <th>pengguna</th>\n",
       "      <th>isi_tweet</th>\n",
       "      <th>sentimen</th>\n",
       "    </tr>\n",
       "  </thead>\n",
       "  <tbody>\n",
       "    <tr>\n",
       "      <th>0</th>\n",
       "      <td>2021-05-10 15:42:01</td>\n",
       "      <td>pskedelik</td>\n",
       "      <td>RT @amsyr_rosaceae: @inailsins HOW MITI HANDLE...</td>\n",
       "      <td>positif</td>\n",
       "    </tr>\n",
       "    <tr>\n",
       "      <th>1</th>\n",
       "      <td>2021-05-10 15:37:54</td>\n",
       "      <td>Alva47831808</td>\n",
       "      <td>RT @astridwulan: THREAD \\n\\nDapet vaksin Astra...</td>\n",
       "      <td>netral</td>\n",
       "    </tr>\n",
       "    <tr>\n",
       "      <th>2</th>\n",
       "      <td>2021-05-10 15:33:19</td>\n",
       "      <td>amrllakml</td>\n",
       "      <td>RT @pojiepooh: How to convince your parents to...</td>\n",
       "      <td>netral</td>\n",
       "    </tr>\n",
       "    <tr>\n",
       "      <th>3</th>\n",
       "      <td>2021-05-10 15:24:29</td>\n",
       "      <td>zmaamor</td>\n",
       "      <td>RT @pojiepooh: How to convince your parents to...</td>\n",
       "      <td>netral</td>\n",
       "    </tr>\n",
       "    <tr>\n",
       "      <th>4</th>\n",
       "      <td>2021-05-10 15:23:22</td>\n",
       "      <td>Marshmellowjelo</td>\n",
       "      <td>RT @pojiepooh: How to convince your parents to...</td>\n",
       "      <td>netral</td>\n",
       "    </tr>\n",
       "  </tbody>\n",
       "</table>\n",
       "</div>"
      ],
      "text/plain": [
       "        tanggal_tweet         pengguna  \\\n",
       "0 2021-05-10 15:42:01        pskedelik   \n",
       "1 2021-05-10 15:37:54     Alva47831808   \n",
       "2 2021-05-10 15:33:19        amrllakml   \n",
       "3 2021-05-10 15:24:29          zmaamor   \n",
       "4 2021-05-10 15:23:22  Marshmellowjelo   \n",
       "\n",
       "                                           isi_tweet sentimen  \n",
       "0  RT @amsyr_rosaceae: @inailsins HOW MITI HANDLE...  positif  \n",
       "1  RT @astridwulan: THREAD \\n\\nDapet vaksin Astra...   netral  \n",
       "2  RT @pojiepooh: How to convince your parents to...   netral  \n",
       "3  RT @pojiepooh: How to convince your parents to...   netral  \n",
       "4  RT @pojiepooh: How to convince your parents to...   netral  "
      ]
     },
     "execution_count": 398,
     "metadata": {},
     "output_type": "execute_result"
    }
   ],
   "source": [
    "df.head(5)"
   ]
  },
  {
   "cell_type": "code",
   "execution_count": 399,
   "id": "b5774e96",
   "metadata": {},
   "outputs": [],
   "source": [
    "x = df['isi_tweet']\n",
    "y = df['sentimen']"
   ]
  },
  {
   "cell_type": "code",
   "execution_count": 400,
   "id": "abb1042e",
   "metadata": {},
   "outputs": [
    {
     "name": "stdout",
     "output_type": "stream",
     "text": [
      "(31,)\n",
      "[[0 0 0 ... 0 1 0]\n",
      " [0 0 0 ... 0 0 0]\n",
      " [0 0 0 ... 0 1 0]\n",
      " ...\n",
      " [0 0 0 ... 0 0 0]\n",
      " [0 0 0 ... 0 0 0]\n",
      " [0 0 0 ... 0 0 0]]\n",
      "shape of Sparse Matriks:  (31, 292)\n",
      "Amount of Non-Zero occurrences:  476\n",
      "(31, 292)\n"
     ]
    }
   ],
   "source": [
    "bow_transformer = CountVectorizer()\n",
    "print(df['isi_tweet'].shape)\n",
    "x = bow_transformer.fit_transform(df['isi_tweet'])\n",
    "\n",
    "print(x.toarray())\n",
    "print('shape of Sparse Matriks: ', x.shape)\n",
    "print('Amount of Non-Zero occurrences: ', x.nnz)\n",
    "\n",
    "filename1 = 'count_vectorized2.pkl'\n",
    "pickle.dump(bow_transformer, open(filename1, 'wb'))\n",
    "\n",
    "tf_transform = TfidfTransformer(use_idf=False).fit(x)\n",
    "x = tf_transform.transform(x)\n",
    "print(x.shape)\n",
    "\n",
    "filename1 = 'tfid_transform2.pkl'\n",
    "pickle.dump(tf_transform, open(filename1, 'wb'))"
   ]
  },
  {
   "cell_type": "code",
   "execution_count": 401,
   "id": "3e474e63",
   "metadata": {},
   "outputs": [
    {
     "name": "stdout",
     "output_type": "stream",
     "text": [
      "Density: 5.2585064074237735\n"
     ]
    }
   ],
   "source": [
    "density = (100.0 * x.nnz / (x.shape[0] * x.shape[1]))\n",
    "print('Density: {}'.format((density)))"
   ]
  },
  {
   "cell_type": "code",
   "execution_count": 402,
   "id": "9b3e84f8",
   "metadata": {},
   "outputs": [],
   "source": [
    "#splitting data\n",
    "x_train, x_test, y_train, y_test = train_test_split(x, y, test_size = 0.2)\n"
   ]
  },
  {
   "cell_type": "code",
   "execution_count": 403,
   "id": "614181a8",
   "metadata": {},
   "outputs": [],
   "source": [
    "#Naive Bayes Method \n",
    "#classifier data\n",
    "nb = MultinomialNB()\n",
    "nb.fit(x_train, y_train)\n",
    "preds = nb.predict(x_test)"
   ]
  },
  {
   "cell_type": "code",
   "execution_count": 404,
   "id": "ed6282dc",
   "metadata": {},
   "outputs": [
    {
     "name": "stdout",
     "output_type": "stream",
     "text": [
      "              precision    recall  f1-score   support\n",
      "\n",
      "     negatif       0.00      0.00      0.00         1\n",
      "      netral       0.71      1.00      0.83         5\n",
      "     positif       0.00      0.00      0.00         1\n",
      "\n",
      "    accuracy                           0.71         7\n",
      "   macro avg       0.24      0.33      0.28         7\n",
      "weighted avg       0.51      0.71      0.60         7\n",
      "\n"
     ]
    },
    {
     "name": "stderr",
     "output_type": "stream",
     "text": [
      "c:\\users\\asus\\appdata\\local\\programs\\python\\python37-32\\lib\\site-packages\\sklearn\\metrics\\_classification.py:1248: UndefinedMetricWarning: Precision and F-score are ill-defined and being set to 0.0 in labels with no predicted samples. Use `zero_division` parameter to control this behavior.\n",
      "  _warn_prf(average, modifier, msg_start, len(result))\n",
      "c:\\users\\asus\\appdata\\local\\programs\\python\\python37-32\\lib\\site-packages\\sklearn\\metrics\\_classification.py:1248: UndefinedMetricWarning: Precision and F-score are ill-defined and being set to 0.0 in labels with no predicted samples. Use `zero_division` parameter to control this behavior.\n",
      "  _warn_prf(average, modifier, msg_start, len(result))\n",
      "c:\\users\\asus\\appdata\\local\\programs\\python\\python37-32\\lib\\site-packages\\sklearn\\metrics\\_classification.py:1248: UndefinedMetricWarning: Precision and F-score are ill-defined and being set to 0.0 in labels with no predicted samples. Use `zero_division` parameter to control this behavior.\n",
      "  _warn_prf(average, modifier, msg_start, len(result))\n"
     ]
    }
   ],
   "source": [
    "print(classification_report(y_test, preds))"
   ]
  },
  {
   "cell_type": "code",
   "execution_count": 405,
   "id": "40b314e5",
   "metadata": {},
   "outputs": [
    {
     "name": "stderr",
     "output_type": "stream",
     "text": [
      "c:\\users\\asus\\appdata\\local\\programs\\python\\python37-32\\lib\\site-packages\\sklearn\\metrics\\_classification.py:1248: UndefinedMetricWarning: Precision and F-score are ill-defined and being set to 0.0 in labels with no predicted samples. Use `zero_division` parameter to control this behavior.\n",
      "  _warn_prf(average, modifier, msg_start, len(result))\n",
      "c:\\users\\asus\\appdata\\local\\programs\\python\\python37-32\\lib\\site-packages\\sklearn\\metrics\\_classification.py:1248: UndefinedMetricWarning: Precision and F-score are ill-defined and being set to 0.0 in labels with no predicted samples. Use `zero_division` parameter to control this behavior.\n",
      "  _warn_prf(average, modifier, msg_start, len(result))\n",
      "c:\\users\\asus\\appdata\\local\\programs\\python\\python37-32\\lib\\site-packages\\sklearn\\metrics\\_classification.py:1248: UndefinedMetricWarning: Precision and F-score are ill-defined and being set to 0.0 in labels with no predicted samples. Use `zero_division` parameter to control this behavior.\n",
      "  _warn_prf(average, modifier, msg_start, len(result))\n"
     ]
    }
   ],
   "source": [
    "from io import StringIO\n",
    "classification = classification_report(y_test, preds)\n",
    "s = StringIO(classification)\n",
    "with open('classification.csv', 'w') as f:\n",
    "    for line in s:\n",
    "        f.write(line)"
   ]
  },
  {
   "cell_type": "code",
   "execution_count": 406,
   "id": "ea852784",
   "metadata": {},
   "outputs": [
    {
     "name": "stdout",
     "output_type": "stream",
     "text": [
      "0.7142857142857143\n"
     ]
    }
   ],
   "source": [
    "print (accuracy_score(y_test, preds))"
   ]
  },
  {
   "cell_type": "markdown",
   "id": "f4563f97",
   "metadata": {},
   "source": [
    "# **-------------------------------------------------------------------------------------------------**"
   ]
  },
  {
   "cell_type": "code",
   "execution_count": 355,
   "id": "74f921b3",
   "metadata": {},
   "outputs": [],
   "source": [
    "accuracy = accuracy_score(y_test,preds)\n",
    "a = np.asarray([accuracy])\n",
    "np.savetxt('accuracy.csv', a, delimiter=',', fmt='%s')"
   ]
  },
  {
   "cell_type": "code",
   "execution_count": 356,
   "id": "cc9908fd",
   "metadata": {},
   "outputs": [],
   "source": [
    "Final = df[['tanggal_tweet','pengguna','isi_tweet','sentimen']]"
   ]
  },
  {
   "cell_type": "code",
   "execution_count": 357,
   "id": "b5c8ad97",
   "metadata": {},
   "outputs": [],
   "source": [
    "Final.to_csv('hasil_analysis.csv')"
   ]
  },
  {
   "cell_type": "code",
   "execution_count": 358,
   "id": "fc054c9b",
   "metadata": {},
   "outputs": [
    {
     "data": {
      "text/plain": [
       "LogisticRegression()"
      ]
     },
     "execution_count": 358,
     "metadata": {},
     "output_type": "execute_result"
    }
   ],
   "source": [
    "model = LogisticRegression()\n",
    "model.fit(x_train, y_train)"
   ]
  },
  {
   "cell_type": "code",
   "execution_count": 359,
   "id": "e1c561c0",
   "metadata": {},
   "outputs": [],
   "source": [
    "filename = 'model_analisis.pkl'\n",
    "pickle.dump(model, open(filename, 'wb'))"
   ]
  },
  {
   "cell_type": "code",
   "execution_count": 360,
   "id": "e440ae25",
   "metadata": {},
   "outputs": [
    {
     "name": "stdout",
     "output_type": "stream",
     "text": [
      "0.75\n"
     ]
    }
   ],
   "source": [
    "loaded_model = pickle.load(open(filename, 'rb'))\n",
    "result = loaded_model.score(x_test, y_test)\n",
    "print(result)"
   ]
  },
  {
   "cell_type": "code",
   "execution_count": 361,
   "id": "b4bdd469",
   "metadata": {},
   "outputs": [
    {
     "data": {
      "text/plain": [
       "array(['netral', 'positif', 'positif', 'netral', 'netral', 'netral',\n",
       "       'netral', 'netral', 'netral', 'positif', 'positif', 'netral',\n",
       "       'netral', 'positif', 'netral', 'positif', 'netral', 'positif',\n",
       "       'netral', 'netral'], dtype=object)"
      ]
     },
     "execution_count": 361,
     "metadata": {},
     "output_type": "execute_result"
    }
   ],
   "source": [
    "loaded_model.predict(x_test)"
   ]
  },
  {
   "cell_type": "code",
   "execution_count": null,
   "id": "bf8619a6",
   "metadata": {},
   "outputs": [],
   "source": []
  }
 ],
 "metadata": {
  "kernelspec": {
   "display_name": "Python 3",
   "language": "python",
   "name": "python3"
  },
  "language_info": {
   "codemirror_mode": {
    "name": "ipython",
    "version": 3
   },
   "file_extension": ".py",
   "mimetype": "text/x-python",
   "name": "python",
   "nbconvert_exporter": "python",
   "pygments_lexer": "ipython3",
   "version": "3.7.2"
  }
 },
 "nbformat": 4,
 "nbformat_minor": 5
}
