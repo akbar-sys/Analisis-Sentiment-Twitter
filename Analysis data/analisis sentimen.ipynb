{
 "cells": [
  {
   "cell_type": "code",
   "execution_count": 2,
   "id": "682a9033",
   "metadata": {},
   "outputs": [],
   "source": [
    "import tweepy\n",
    "import re\n",
    "from textblob import TextBlob\n",
    "import pandas as pd\n",
    "from pandas import DataFrame\n",
    "\n",
    "\n",
    "\n",
    "import numpy as np\n",
    "import joblib\n",
    "import pickle\n",
    "from sklearn import model_selection\n",
    "from sklearn.linear_model import LogisticRegression\n",
    "from sklearn.multiclass import OneVsRestClassifier\n",
    "from sklearn.naive_bayes import MultinomialNB\n",
    "from sklearn.metrics import classification_report\n",
    "from sklearn.model_selection import train_test_split\n",
    "from sklearn.feature_extraction.text import CountVectorizer\n",
    "from sklearn.feature_extraction.text import TfidfTransformer\n",
    "from sklearn.pipeline import Pipeline\n",
    "from sklearn.metrics import accuracy_score"
   ]
  },
  {
   "cell_type": "code",
   "execution_count": 3,
   "id": "a249445a",
   "metadata": {},
   "outputs": [],
   "source": [
    "api_key = 'FAQUNHC2FtBdXma5JwdbJsCt6'\n",
    "api_secret_key = 'f8ZyKeNNuHoe6JvpPvYQD9keagttbjARQvaDrAqWfpVW28V4EY'\n",
    "access_token = '1386283874901127168-2uJkEOsfczHSJB1tt598kBgvJ6ia5v'\n",
    "access_token_secret = 'GYlCd3SnlTxVVfUWKZSjBGWFGuQ4mqngvMJRZvvu5Mxhg'"
   ]
  },
  {
   "cell_type": "code",
   "execution_count": 4,
   "id": "c017c47d",
   "metadata": {},
   "outputs": [],
   "source": [
    "auth = tweepy.OAuthHandler(api_key,api_secret_key)\n",
    "auth.set_access_token(access_token,access_token_secret)\n",
    "api = tweepy.API(auth)"
   ]
  },
  {
   "cell_type": "code",
   "execution_count": 68,
   "id": "07ae9223",
   "metadata": {},
   "outputs": [],
   "source": [
    "hasilSearch = api.search(q=\"vaksin\",lang=\"en\", count=1000)"
   ]
  },
  {
   "cell_type": "code",
   "execution_count": 69,
   "id": "123df7cf",
   "metadata": {},
   "outputs": [],
   "source": [
    "hasil = []"
   ]
  },
  {
   "cell_type": "code",
   "execution_count": 70,
   "id": "233e856b",
   "metadata": {},
   "outputs": [],
   "source": [
    "for tweet in hasilSearch:\n",
    "    tweet_properties = {}\n",
    "    tweet_properties['tanggal_tweet'] = tweet.created_at\n",
    "    tweet_properties['pengguna'] = tweet.user.screen_name\n",
    "    tweet_properties['isi_tweet'] = tweet.text\n",
    "    tweet_bersih = \" \".join(re.sub(\"(@[A-Za-z0-9]+)|(^0-9A-Za-z \\t])|(\\w+:\\/\\/\\S+)\",\" \",tweet.text).split())\n",
    "    \n",
    "    analysis = TextBlob(tweet_bersih)\n",
    "    \n",
    "    if analysis.sentiment.polarity > 0.0:\n",
    "        tweet_properties[\"sentimen\"] = \"positif\"\n",
    "    elif analysis.sentiment.polarity == 0.0:\n",
    "        tweet_properties[\"sentimen\"] = \"netral\"\n",
    "    else:\n",
    "        tweet_properties[\"sentimen\"] = \"negatif\"\n",
    "    \n",
    "    if tweet.retweet_count > 0:\n",
    "        if tweet_properties not in hasil:\n",
    "            hasil.append(tweet_properties)\n",
    "    else:\n",
    "        hasil.append(tweet_properties)\n",
    "    \n",
    "#     print(tweet_properties)"
   ]
  },
  {
   "cell_type": "code",
   "execution_count": 89,
   "id": "56abe47d",
   "metadata": {},
   "outputs": [],
   "source": [
    "#hasil"
   ]
  },
  {
   "cell_type": "code",
   "execution_count": 72,
   "id": "e3fb60d6",
   "metadata": {},
   "outputs": [],
   "source": [
    "df =  DataFrame(data = hasil)"
   ]
  },
  {
   "cell_type": "code",
   "execution_count": 73,
   "id": "71f8e8e4",
   "metadata": {},
   "outputs": [
    {
     "data": {
      "text/html": [
       "<div>\n",
       "<style scoped>\n",
       "    .dataframe tbody tr th:only-of-type {\n",
       "        vertical-align: middle;\n",
       "    }\n",
       "\n",
       "    .dataframe tbody tr th {\n",
       "        vertical-align: top;\n",
       "    }\n",
       "\n",
       "    .dataframe thead th {\n",
       "        text-align: right;\n",
       "    }\n",
       "</style>\n",
       "<table border=\"1\" class=\"dataframe\">\n",
       "  <thead>\n",
       "    <tr style=\"text-align: right;\">\n",
       "      <th></th>\n",
       "      <th>tanggal_tweet</th>\n",
       "      <th>pengguna</th>\n",
       "      <th>isi_tweet</th>\n",
       "      <th>sentimen</th>\n",
       "    </tr>\n",
       "  </thead>\n",
       "  <tbody>\n",
       "    <tr>\n",
       "      <th>0</th>\n",
       "      <td>2021-05-19 07:55:48</td>\n",
       "      <td>noorafieyda</td>\n",
       "      <td>RT @AmiKimmy: I had my first AZ jab today but ...</td>\n",
       "      <td>positif</td>\n",
       "    </tr>\n",
       "    <tr>\n",
       "      <th>1</th>\n",
       "      <td>2021-05-19 07:55:38</td>\n",
       "      <td>JapenKulim</td>\n",
       "      <td>INFO ON WHEELS PKP 3.0 2021 PEJABAT PENERANGAN...</td>\n",
       "      <td>netral</td>\n",
       "    </tr>\n",
       "    <tr>\n",
       "      <th>2</th>\n",
       "      <td>2021-05-19 07:54:57</td>\n",
       "      <td>nrlqstina</td>\n",
       "      <td>I’m so proud of everyone in my family. Semua e...</td>\n",
       "      <td>positif</td>\n",
       "    </tr>\n",
       "    <tr>\n",
       "      <th>3</th>\n",
       "      <td>2021-05-19 07:54:25</td>\n",
       "      <td>SyffaAzlan</td>\n",
       "      <td>@chrspepper Luckily the day after vaksin meman...</td>\n",
       "      <td>positif</td>\n",
       "    </tr>\n",
       "    <tr>\n",
       "      <th>4</th>\n",
       "      <td>2021-05-19 07:53:11</td>\n",
       "      <td>SafiuddinAhmad_</td>\n",
       "      <td>RT @mistaaimanvevo: @nadiazaman__ @DrDzul Acco...</td>\n",
       "      <td>netral</td>\n",
       "    </tr>\n",
       "  </tbody>\n",
       "</table>\n",
       "</div>"
      ],
      "text/plain": [
       "        tanggal_tweet         pengguna  \\\n",
       "0 2021-05-19 07:55:48      noorafieyda   \n",
       "1 2021-05-19 07:55:38       JapenKulim   \n",
       "2 2021-05-19 07:54:57        nrlqstina   \n",
       "3 2021-05-19 07:54:25       SyffaAzlan   \n",
       "4 2021-05-19 07:53:11  SafiuddinAhmad_   \n",
       "\n",
       "                                           isi_tweet sentimen  \n",
       "0  RT @AmiKimmy: I had my first AZ jab today but ...  positif  \n",
       "1  INFO ON WHEELS PKP 3.0 2021 PEJABAT PENERANGAN...   netral  \n",
       "2  I’m so proud of everyone in my family. Semua e...  positif  \n",
       "3  @chrspepper Luckily the day after vaksin meman...  positif  \n",
       "4  RT @mistaaimanvevo: @nadiazaman__ @DrDzul Acco...   netral  "
      ]
     },
     "execution_count": 73,
     "metadata": {},
     "output_type": "execute_result"
    }
   ],
   "source": [
    "df.head(5)"
   ]
  },
  {
   "cell_type": "code",
   "execution_count": 74,
   "id": "b5774e96",
   "metadata": {},
   "outputs": [],
   "source": [
    "x = df['isi_tweet']\n",
    "y = df['sentimen']"
   ]
  },
  {
   "cell_type": "code",
   "execution_count": 75,
   "id": "abb1042e",
   "metadata": {},
   "outputs": [
    {
     "name": "stdout",
     "output_type": "stream",
     "text": [
      "(100,)\n",
      "[[0 0 0 ... 0 0 0]\n",
      " [0 0 0 ... 0 1 0]\n",
      " [0 0 0 ... 0 0 0]\n",
      " ...\n",
      " [0 0 0 ... 0 0 0]\n",
      " [0 0 0 ... 0 0 0]\n",
      " [0 0 0 ... 0 0 0]]\n",
      "shape of Sparse Matriks:  (100, 409)\n",
      "Amount of Non-Zero occurrences:  2125\n",
      "(100, 409)\n"
     ]
    }
   ],
   "source": [
    "bow_transformer = CountVectorizer()\n",
    "print(df['isi_tweet'].shape)\n",
    "x = bow_transformer.fit_transform(df['isi_tweet'])\n",
    "\n",
    "print(x.toarray())\n",
    "print('shape of Sparse Matriks: ', x.shape)\n",
    "print('Amount of Non-Zero occurrences: ', x.nnz)\n",
    "\n",
    "filename1 = 'count_vectorized2.pkl'\n",
    "pickle.dump(bow_transformer, open(filename1, 'wb'))\n",
    "\n",
    "tf_transform = TfidfTransformer(use_idf=False).fit(x)\n",
    "x = tf_transform.transform(x)\n",
    "print(x.shape)\n",
    "\n",
    "filename1 = 'tfid_transform2.pkl'\n",
    "pickle.dump(tf_transform, open(filename1, 'wb'))"
   ]
  },
  {
   "cell_type": "code",
   "execution_count": 76,
   "id": "3e474e63",
   "metadata": {},
   "outputs": [
    {
     "name": "stdout",
     "output_type": "stream",
     "text": [
      "Density: 5.19559902200489\n"
     ]
    }
   ],
   "source": [
    "density = (100.0 * x.nnz / (x.shape[0] * x.shape[1]))\n",
    "print('Density: {}'.format((density)))"
   ]
  },
  {
   "cell_type": "code",
   "execution_count": 77,
   "id": "9b3e84f8",
   "metadata": {},
   "outputs": [],
   "source": [
    "#splitting data\n",
    "x_train, x_test, y_train, y_test = train_test_split(x, y, test_size = 0.2)\n"
   ]
  },
  {
   "cell_type": "code",
   "execution_count": 78,
   "id": "614181a8",
   "metadata": {},
   "outputs": [],
   "source": [
    "#Naive Bayes Method \n",
    "#classifier data\n",
    "nb = MultinomialNB()\n",
    "nb.fit(x_train, y_train)\n",
    "preds = nb.predict(x_test)"
   ]
  },
  {
   "cell_type": "code",
   "execution_count": 79,
   "id": "ed6282dc",
   "metadata": {},
   "outputs": [
    {
     "name": "stdout",
     "output_type": "stream",
     "text": [
      "              precision    recall  f1-score   support\n",
      "\n",
      "      netral       1.00      0.86      0.92         7\n",
      "     positif       0.93      1.00      0.96        13\n",
      "\n",
      "    accuracy                           0.95        20\n",
      "   macro avg       0.96      0.93      0.94        20\n",
      "weighted avg       0.95      0.95      0.95        20\n",
      "\n"
     ]
    }
   ],
   "source": [
    "print(classification_report(y_test, preds))"
   ]
  },
  {
   "cell_type": "code",
   "execution_count": 80,
   "id": "40b314e5",
   "metadata": {},
   "outputs": [],
   "source": [
    "from io import StringIO\n",
    "classification = classification_report(y_test, preds)\n",
    "s = StringIO(classification)\n",
    "with open('classification.csv', 'w') as f:\n",
    "    for line in s:\n",
    "        f.write(line)"
   ]
  },
  {
   "cell_type": "code",
   "execution_count": 81,
   "id": "ea852784",
   "metadata": {},
   "outputs": [
    {
     "name": "stdout",
     "output_type": "stream",
     "text": [
      "0.95\n"
     ]
    }
   ],
   "source": [
    "print (accuracy_score(y_test, preds))"
   ]
  },
  {
   "cell_type": "code",
   "execution_count": 82,
   "id": "74f921b3",
   "metadata": {},
   "outputs": [],
   "source": [
    "accuracy = accuracy_score(y_test,preds)\n",
    "a = np.asarray([accuracy])\n",
    "np.savetxt('accuracy.csv', a, delimiter=',', fmt='%s')"
   ]
  },
  {
   "cell_type": "code",
   "execution_count": 83,
   "id": "cc9908fd",
   "metadata": {},
   "outputs": [],
   "source": [
    "Final = df[['tanggal_tweet','pengguna','isi_tweet','sentimen']]"
   ]
  },
  {
   "cell_type": "code",
   "execution_count": 84,
   "id": "b5c8ad97",
   "metadata": {},
   "outputs": [],
   "source": [
    "Final.to_csv('hasil_analysis.csv')"
   ]
  },
  {
   "cell_type": "code",
   "execution_count": 85,
   "id": "fc054c9b",
   "metadata": {},
   "outputs": [
    {
     "data": {
      "text/plain": [
       "LogisticRegression()"
      ]
     },
     "execution_count": 85,
     "metadata": {},
     "output_type": "execute_result"
    }
   ],
   "source": [
    "model = LogisticRegression()\n",
    "model.fit(x_train, y_train)"
   ]
  },
  {
   "cell_type": "code",
   "execution_count": 86,
   "id": "e1c561c0",
   "metadata": {},
   "outputs": [],
   "source": [
    "filename = 'model_analisis.pkl'\n",
    "pickle.dump(model, open(filename, 'wb'))"
   ]
  },
  {
   "cell_type": "code",
   "execution_count": 87,
   "id": "e440ae25",
   "metadata": {},
   "outputs": [
    {
     "name": "stdout",
     "output_type": "stream",
     "text": [
      "0.85\n"
     ]
    }
   ],
   "source": [
    "loaded_model = pickle.load(open(filename, 'rb'))\n",
    "result = loaded_model.score(x_test, y_test)\n",
    "print(result)"
   ]
  },
  {
   "cell_type": "code",
   "execution_count": 88,
   "id": "b4bdd469",
   "metadata": {},
   "outputs": [
    {
     "data": {
      "text/plain": [
       "array(['netral', 'positif', 'positif', 'positif', 'positif', 'netral',\n",
       "       'positif', 'netral', 'netral', 'netral', 'positif', 'positif',\n",
       "       'positif', 'netral', 'netral', 'netral', 'netral', 'positif',\n",
       "       'netral', 'positif'], dtype=object)"
      ]
     },
     "execution_count": 88,
     "metadata": {},
     "output_type": "execute_result"
    }
   ],
   "source": [
    "loaded_model.predict(x_test)"
   ]
  }
 ],
 "metadata": {
  "kernelspec": {
   "display_name": "Python 3",
   "language": "python",
   "name": "python3"
  },
  "language_info": {
   "codemirror_mode": {
    "name": "ipython",
    "version": 3
   },
   "file_extension": ".py",
   "mimetype": "text/x-python",
   "name": "python",
   "nbconvert_exporter": "python",
   "pygments_lexer": "ipython3",
   "version": "3.7.2"
  }
 },
 "nbformat": 4,
 "nbformat_minor": 5
}
