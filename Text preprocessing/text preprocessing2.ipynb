{
 "cells": [
  {
   "cell_type": "code",
   "execution_count": 1,
   "metadata": {
    "colab": {
     "base_uri": "https://localhost:8080/"
    },
    "executionInfo": {
     "elapsed": 1386,
     "status": "ok",
     "timestamp": 1619537343746,
     "user": {
      "displayName": "Jumina Cahyani",
      "photoUrl": "https://lh3.googleusercontent.com/a-/AOh14GgXfs0fqTUtl6dZiqF71MSW1QQjK2BNt47qUPUS=s64",
      "userId": "06914602338279835826"
     },
     "user_tz": -480
    },
    "id": "alaDdRLdFnlt",
    "outputId": "1b105228-8c07-4bfc-cc45-85338c8b0f54"
   },
   "outputs": [],
   "source": [
    "# from google.colab import drive\n",
    "# drive.mount ('/content/drive')"
   ]
  },
  {
   "cell_type": "code",
   "execution_count": 1,
   "metadata": {
    "colab": {
     "base_uri": "https://localhost:8080/"
    },
    "executionInfo": {
     "elapsed": 5031,
     "status": "ok",
     "timestamp": 1619537347432,
     "user": {
      "displayName": "Jumina Cahyani",
      "photoUrl": "https://lh3.googleusercontent.com/a-/AOh14GgXfs0fqTUtl6dZiqF71MSW1QQjK2BNt47qUPUS=s64",
      "userId": "06914602338279835826"
     },
     "user_tz": -480
    },
    "id": "p9-hFSznd-QR",
    "outputId": "5018ab44-bce1-45d1-eaaa-9136b5c30751"
   },
   "outputs": [
    {
     "name": "stdout",
     "output_type": "stream",
     "text": [
      "Requirement already satisfied: textblob in c:\\users\\asus\\appdata\\local\\programs\\python\\python37-32\\lib\\site-packages (0.15.3)\n",
      "Requirement already satisfied: nltk>=3.1 in c:\\users\\asus\\appdata\\roaming\\python\\python37\\site-packages (from textblob) (3.6.2)\n",
      "Requirement already satisfied: click in c:\\users\\asus\\appdata\\roaming\\python\\python37\\site-packages (from nltk>=3.1->textblob) (7.1.2)\n",
      "Requirement already satisfied: joblib in c:\\users\\asus\\appdata\\roaming\\python\\python37\\site-packages (from nltk>=3.1->textblob) (1.0.1)\n",
      "Requirement already satisfied: regex in c:\\users\\asus\\appdata\\roaming\\python\\python37\\site-packages (from nltk>=3.1->textblob) (2021.4.4)\n",
      "Requirement already satisfied: tqdm in c:\\users\\asus\\appdata\\roaming\\python\\python37\\site-packages (from nltk>=3.1->textblob) (4.60.0)\n",
      "Note: you may need to restart the kernel to use updated packages.\n"
     ]
    },
    {
     "name": "stderr",
     "output_type": "stream",
     "text": [
      "You are using pip version 18.1, however version 21.1.1 is available.\n",
      "You should consider upgrading via the 'python -m pip install --upgrade pip' command.\n"
     ]
    }
   ],
   "source": [
    "pip install textblob"
   ]
  },
  {
   "cell_type": "code",
   "execution_count": 2,
   "metadata": {
    "id": "X_QyvSvWPV-u"
   },
   "outputs": [],
   "source": [
    "import pandas as pd\n",
    "import textblob\n",
    "import numpy as np\n",
    "import matplotlib.pyplot as plt\n",
    "import string\n",
    "import nltk\n",
    "import re\n",
    "#from Sastrawi.StopWordRemover.StopWordRemoverFactory import StopWordRemoverFactory"
   ]
  },
  {
   "cell_type": "code",
   "execution_count": 3,
   "metadata": {
    "colab": {
     "base_uri": "https://localhost:8080/"
    },
    "executionInfo": {
     "elapsed": 4983,
     "status": "ok",
     "timestamp": 1619537347440,
     "user": {
      "displayName": "Jumina Cahyani",
      "photoUrl": "https://lh3.googleusercontent.com/a-/AOh14GgXfs0fqTUtl6dZiqF71MSW1QQjK2BNt47qUPUS=s64",
      "userId": "06914602338279835826"
     },
     "user_tz": -480
    },
    "id": "d1JpLFC2GcO1",
    "outputId": "5cef03b3-70ec-42ed-da54-5fec605208c0"
   },
   "outputs": [
    {
     "name": "stderr",
     "output_type": "stream",
     "text": [
      "[nltk_data] Downloading package punkt to\n",
      "[nltk_data]     C:\\Users\\ASUS\\AppData\\Roaming\\nltk_data...\n",
      "[nltk_data]   Package punkt is already up-to-date!\n",
      "[nltk_data] Downloading package stopwords to\n",
      "[nltk_data]     C:\\Users\\ASUS\\AppData\\Roaming\\nltk_data...\n",
      "[nltk_data]   Package stopwords is already up-to-date!\n"
     ]
    },
    {
     "data": {
      "text/plain": [
       "True"
      ]
     },
     "execution_count": 3,
     "metadata": {},
     "output_type": "execute_result"
    }
   ],
   "source": [
    "nltk.download('punkt')\n",
    "nltk.download('stopwords')\n",
    "#load the data\n",
    "#from google.colab import files\n",
    "#uploaded = files.upload()"
   ]
  },
  {
   "cell_type": "code",
   "execution_count": 4,
   "metadata": {
    "id": "38E0u-0JGtQe"
   },
   "outputs": [],
   "source": [
    "vaksin = pd.read_csv(\"ini_vaksin3.csv\", encoding=\"unicode_escape\")"
   ]
  },
  {
   "cell_type": "code",
   "execution_count": 6,
   "metadata": {
    "colab": {
     "base_uri": "https://localhost:8080/",
     "height": 204
    },
    "executionInfo": {
     "elapsed": 4966,
     "status": "ok",
     "timestamp": 1619537347470,
     "user": {
      "displayName": "Jumina Cahyani",
      "photoUrl": "https://lh3.googleusercontent.com/a-/AOh14GgXfs0fqTUtl6dZiqF71MSW1QQjK2BNt47qUPUS=s64",
      "userId": "06914602338279835826"
     },
     "user_tz": -480
    },
    "id": "cpDx1_4jH-O6",
    "outputId": "e4bcc39b-4add-4afc-89ba-75a7ee06291b"
   },
   "outputs": [
    {
     "data": {
      "text/html": [
       "<div>\n",
       "<style scoped>\n",
       "    .dataframe tbody tr th:only-of-type {\n",
       "        vertical-align: middle;\n",
       "    }\n",
       "\n",
       "    .dataframe tbody tr th {\n",
       "        vertical-align: top;\n",
       "    }\n",
       "\n",
       "    .dataframe thead th {\n",
       "        text-align: right;\n",
       "    }\n",
       "</style>\n",
       "<table border=\"1\" class=\"dataframe\">\n",
       "  <thead>\n",
       "    <tr style=\"text-align: right;\">\n",
       "      <th></th>\n",
       "      <th>Tanggal</th>\n",
       "      <th>Username</th>\n",
       "      <th>Tweet</th>\n",
       "    </tr>\n",
       "  </thead>\n",
       "  <tbody>\n",
       "    <tr>\n",
       "      <th>0</th>\n",
       "      <td>2021-04-25 12:36:09</td>\n",
       "      <td>dikuunnn</td>\n",
       "      <td>@rykarlsen Di indo, dpt vaksin aja udh sukur ð...</td>\n",
       "    </tr>\n",
       "    <tr>\n",
       "      <th>1</th>\n",
       "      <td>\\n2021-04-25 12:36:07</td>\n",
       "      <td>nlwtr_</td>\n",
       "      <td>dah dapat vaksin ke?! https://t.co/uhZvhEwRkZ</td>\n",
       "    </tr>\n",
       "    <tr>\n",
       "      <th>2</th>\n",
       "      <td>\\n2021-04-25 12:36:05</td>\n",
       "      <td>eiwann98</td>\n",
       "      <td>RT @TheUsopIbrahim: Queen back off tak rugi ap...</td>\n",
       "    </tr>\n",
       "    <tr>\n",
       "      <th>3</th>\n",
       "      <td>\\n2021-04-25 12:35:36</td>\n",
       "      <td>yusufgunawan</td>\n",
       "      <td>RT @dewiratnadotid: Tapi ingeten lagi ya, rek....</td>\n",
       "    </tr>\n",
       "    <tr>\n",
       "      <th>4</th>\n",
       "      <td>\\n2021-04-25 12:35:32</td>\n",
       "      <td>nrsyfqhathrh</td>\n",
       "      <td>RT @aliffnaif_: Vaksin lambat dan tak mengutam...</td>\n",
       "    </tr>\n",
       "  </tbody>\n",
       "</table>\n",
       "</div>"
      ],
      "text/plain": [
       "                 Tanggal      Username  \\\n",
       "0    2021-04-25 12:36:09      dikuunnn   \n",
       "1  \\n2021-04-25 12:36:07        nlwtr_   \n",
       "2  \\n2021-04-25 12:36:05      eiwann98   \n",
       "3  \\n2021-04-25 12:35:36  yusufgunawan   \n",
       "4  \\n2021-04-25 12:35:32  nrsyfqhathrh   \n",
       "\n",
       "                                               Tweet  \n",
       "0  @rykarlsen Di indo, dpt vaksin aja udh sukur ð...  \n",
       "1      dah dapat vaksin ke?! https://t.co/uhZvhEwRkZ  \n",
       "2  RT @TheUsopIbrahim: Queen back off tak rugi ap...  \n",
       "3  RT @dewiratnadotid: Tapi ingeten lagi ya, rek....  \n",
       "4  RT @aliffnaif_: Vaksin lambat dan tak mengutam...  "
      ]
     },
     "execution_count": 6,
     "metadata": {},
     "output_type": "execute_result"
    }
   ],
   "source": [
    "vaksin.head(5)"
   ]
  },
  {
   "cell_type": "markdown",
   "metadata": {
    "id": "SFp4GeKIpiHR"
   },
   "source": [
    "# **PROSES CASE FOLDING**"
   ]
  },
  {
   "cell_type": "code",
   "execution_count": 7,
   "metadata": {
    "colab": {
     "base_uri": "https://localhost:8080/"
    },
    "executionInfo": {
     "elapsed": 4967,
     "status": "ok",
     "timestamp": 1619537347481,
     "user": {
      "displayName": "Jumina Cahyani",
      "photoUrl": "https://lh3.googleusercontent.com/a-/AOh14GgXfs0fqTUtl6dZiqF71MSW1QQjK2BNt47qUPUS=s64",
      "userId": "06914602338279835826"
     },
     "user_tz": -480
    },
    "id": "xM2OOjF_hiKF",
    "outputId": "3f118d0f-97f8-46ad-b9b6-840e4731e03f"
   },
   "outputs": [
    {
     "data": {
      "text/plain": [
       "0    @rykarlsen Di indo, dpt vaksin aja udh sukur ð...\n",
       "1        dah dapat vaksin ke?! https://t.co/uhZvhEwRkZ\n",
       "2    RT @TheUsopIbrahim: Queen back off tak rugi ap...\n",
       "3    RT @dewiratnadotid: Tapi ingeten lagi ya, rek....\n",
       "4    RT @aliffnaif_: Vaksin lambat dan tak mengutam...\n",
       "5    [FORUM VAKSIN PRO]\\n\\n25 April 2021\\n\\nTerima ...\n",
       "6    @rykarlsen Kelar vaksin di Indonesia:\\nLanjot ...\n",
       "7    RT @TheUsopIbrahim: Queen back off tak rugi ap...\n",
       "8    RT @TheUsopIbrahim: Queen back off tak rugi ap...\n",
       "9                      kudu bgt umroh di vaksin yað¤¨\n",
       "Name: Tweet, dtype: object"
      ]
     },
     "execution_count": 7,
     "metadata": {},
     "output_type": "execute_result"
    }
   ],
   "source": [
    "read_tweet = vaksin['Tweet']\n",
    "read_tweet.head(10)"
   ]
  },
  {
   "cell_type": "code",
   "execution_count": 8,
   "metadata": {
    "colab": {
     "base_uri": "https://localhost:8080/"
    },
    "executionInfo": {
     "elapsed": 4958,
     "status": "ok",
     "timestamp": 1619537347484,
     "user": {
      "displayName": "Jumina Cahyani",
      "photoUrl": "https://lh3.googleusercontent.com/a-/AOh14GgXfs0fqTUtl6dZiqF71MSW1QQjK2BNt47qUPUS=s64",
      "userId": "06914602338279835826"
     },
     "user_tz": -480
    },
    "id": "eIejl5g0ouUi",
    "outputId": "7dae0eee-3923-43ca-abf9-ce471cad8e85"
   },
   "outputs": [
    {
     "name": "stdout",
     "output_type": "stream",
     "text": [
      "0    @rykarlsen di indo, dpt vaksin aja udh sukur ð...\n",
      "1        dah dapat vaksin ke?! https://t.co/uhzvhewrkz\n",
      "2    rt @theusopibrahim: queen back off tak rugi ap...\n",
      "3    rt @dewiratnadotid: tapi ingeten lagi ya, rek....\n",
      "4    rt @aliffnaif_: vaksin lambat dan tak mengutam...\n",
      "5    [forum vaksin pro]\\n\\n25 april 2021\\n\\nterima ...\n",
      "6    @rykarlsen kelar vaksin di indonesia:\\nlanjot ...\n",
      "7    rt @theusopibrahim: queen back off tak rugi ap...\n",
      "8    rt @theusopibrahim: queen back off tak rugi ap...\n",
      "9                      kudu bgt umroh di vaksin yað¤¨\n",
      "Name: Tweet, dtype: object\n"
     ]
    }
   ],
   "source": [
    "#membuat huruf menjadi kecil semua\n",
    "vaksin['Tweet'] = vaksin['Tweet'].str.lower()\n",
    "print(vaksin['Tweet'].head(10))"
   ]
  },
  {
   "cell_type": "code",
   "execution_count": 9,
   "metadata": {},
   "outputs": [
    {
     "data": {
      "text/html": [
       "<div>\n",
       "<style scoped>\n",
       "    .dataframe tbody tr th:only-of-type {\n",
       "        vertical-align: middle;\n",
       "    }\n",
       "\n",
       "    .dataframe tbody tr th {\n",
       "        vertical-align: top;\n",
       "    }\n",
       "\n",
       "    .dataframe thead th {\n",
       "        text-align: right;\n",
       "    }\n",
       "</style>\n",
       "<table border=\"1\" class=\"dataframe\">\n",
       "  <thead>\n",
       "    <tr style=\"text-align: right;\">\n",
       "      <th></th>\n",
       "      <th>Tanggal</th>\n",
       "      <th>Username</th>\n",
       "      <th>Tweet</th>\n",
       "    </tr>\n",
       "  </thead>\n",
       "  <tbody>\n",
       "    <tr>\n",
       "      <th>0</th>\n",
       "      <td>2021-04-25 12:36:09</td>\n",
       "      <td>dikuunnn</td>\n",
       "      <td>@rykarlsen di indo, dpt vaksin aja udh sukur ð...</td>\n",
       "    </tr>\n",
       "    <tr>\n",
       "      <th>1</th>\n",
       "      <td>\\n2021-04-25 12:36:07</td>\n",
       "      <td>nlwtr_</td>\n",
       "      <td>dah dapat vaksin ke?! https://t.co/uhzvhewrkz</td>\n",
       "    </tr>\n",
       "    <tr>\n",
       "      <th>2</th>\n",
       "      <td>\\n2021-04-25 12:36:05</td>\n",
       "      <td>eiwann98</td>\n",
       "      <td>rt @theusopibrahim: queen back off tak rugi ap...</td>\n",
       "    </tr>\n",
       "    <tr>\n",
       "      <th>3</th>\n",
       "      <td>\\n2021-04-25 12:35:36</td>\n",
       "      <td>yusufgunawan</td>\n",
       "      <td>rt @dewiratnadotid: tapi ingeten lagi ya, rek....</td>\n",
       "    </tr>\n",
       "    <tr>\n",
       "      <th>4</th>\n",
       "      <td>\\n2021-04-25 12:35:32</td>\n",
       "      <td>nrsyfqhathrh</td>\n",
       "      <td>rt @aliffnaif_: vaksin lambat dan tak mengutam...</td>\n",
       "    </tr>\n",
       "  </tbody>\n",
       "</table>\n",
       "</div>"
      ],
      "text/plain": [
       "                 Tanggal      Username  \\\n",
       "0    2021-04-25 12:36:09      dikuunnn   \n",
       "1  \\n2021-04-25 12:36:07        nlwtr_   \n",
       "2  \\n2021-04-25 12:36:05      eiwann98   \n",
       "3  \\n2021-04-25 12:35:36  yusufgunawan   \n",
       "4  \\n2021-04-25 12:35:32  nrsyfqhathrh   \n",
       "\n",
       "                                               Tweet  \n",
       "0  @rykarlsen di indo, dpt vaksin aja udh sukur ð...  \n",
       "1      dah dapat vaksin ke?! https://t.co/uhzvhewrkz  \n",
       "2  rt @theusopibrahim: queen back off tak rugi ap...  \n",
       "3  rt @dewiratnadotid: tapi ingeten lagi ya, rek....  \n",
       "4  rt @aliffnaif_: vaksin lambat dan tak mengutam...  "
      ]
     },
     "execution_count": 9,
     "metadata": {},
     "output_type": "execute_result"
    }
   ],
   "source": [
    "vaksin.head(5)"
   ]
  },
  {
   "cell_type": "markdown",
   "metadata": {
    "id": "nTUdPUB5fvbk"
   },
   "source": [
    "# **TOKENIZING**"
   ]
  },
  {
   "cell_type": "code",
   "execution_count": 10,
   "metadata": {
    "colab": {
     "base_uri": "https://localhost:8080/"
    },
    "executionInfo": {
     "elapsed": 4950,
     "status": "ok",
     "timestamp": 1619537347488,
     "user": {
      "displayName": "Jumina Cahyani",
      "photoUrl": "https://lh3.googleusercontent.com/a-/AOh14GgXfs0fqTUtl6dZiqF71MSW1QQjK2BNt47qUPUS=s64",
      "userId": "06914602338279835826"
     },
     "user_tz": -480
    },
    "id": "w7wZ3foZp3C5",
    "outputId": "09b3eff5-52ff-4d6f-99e2-ee7e04083e8e"
   },
   "outputs": [
    {
     "name": "stdout",
     "output_type": "stream",
     "text": [
      "0    di indo, dpt vaksin aja udh sukur ????????????...\n",
      "1                                dah dapat vaksin ke?!\n",
      "2    rt : queen back off tak rugi apa. kita ni dah ...\n",
      "3    rt : tapi ingeten lagi ya, rek... 3m tetep kud...\n",
      "4    rt _: vaksin lambat dan tak mengutamakan guru ...\n",
      "5    [forum vaksin pro] 25 april 2021 terima kasih ...\n",
      "6          kelar vaksin di indonesia: lanjot kerja????\n",
      "7    rt : queen back off tak rugi apa. kita ni dah ...\n",
      "8    rt : queen back off tak rugi apa. kita ni dah ...\n",
      "9                      kudu bgt umroh di vaksin ya????\n",
      "Name: Tweet, dtype: object\n"
     ]
    }
   ],
   "source": [
    "#tokenizing\n",
    "from nltk.tokenize import word_tokenize\n",
    "\n",
    "def remove_tweet(text):\n",
    "  text = str(text)\n",
    "  text = text.replace('\\\\t', \" \").replace('\\\\n',\" \").replace('\\\\u', \" \").replace('\\\\', \"\")  #menghapus tab, new line, back slice\n",
    "  text = text.encode('ascii', 'replace').decode('ascii') #menghapus non ascii\n",
    "  text = ' '.join(re.sub(\"([@#][A-Za-z0-9]+)|(\\w+:\\/\\/\\S+)\",\" \",text).split())  #menghapus hashtag, mention dan link\n",
    "  return text.replace(\"http://\", \" \").replace(\"https://\", \" \")\n",
    "\n",
    "vaksin['Tweet'] = vaksin['Tweet'].apply(remove_tweet)\n",
    "print(vaksin['Tweet'].head(10))\n"
   ]
  },
  {
   "cell_type": "code",
   "execution_count": 11,
   "metadata": {
    "colab": {
     "base_uri": "https://localhost:8080/"
    },
    "executionInfo": {
     "elapsed": 4942,
     "status": "ok",
     "timestamp": 1619537347491,
     "user": {
      "displayName": "Jumina Cahyani",
      "photoUrl": "https://lh3.googleusercontent.com/a-/AOh14GgXfs0fqTUtl6dZiqF71MSW1QQjK2BNt47qUPUS=s64",
      "userId": "06914602338279835826"
     },
     "user_tz": -480
    },
    "id": "ORLE4wr0uiCD",
    "outputId": "6f92cae2-990c-4d00-9d3d-8b69088496e4"
   },
   "outputs": [
    {
     "name": "stdout",
     "output_type": "stream",
     "text": [
      "0    di indo, dpt vaksin aja udh sukur ????????????...\n",
      "1                                dah dapat vaksin ke?!\n",
      "2    rt : queen back off tak rugi apa. kita ni dah ...\n",
      "3    rt : tapi ingeten lagi ya, rek... m tetep kudu...\n",
      "4    rt _: vaksin lambat dan tak mengutamakan guru ...\n",
      "5    [forum vaksin pro]  april  terima kasih kepada...\n",
      "6          kelar vaksin di indonesia: lanjot kerja????\n",
      "7    rt : queen back off tak rugi apa. kita ni dah ...\n",
      "8    rt : queen back off tak rugi apa. kita ni dah ...\n",
      "9                      kudu bgt umroh di vaksin ya????\n",
      "Name: Tweet, dtype: object\n"
     ]
    }
   ],
   "source": [
    "#menghapus angka\n",
    "def remove_number(text): \n",
    "  return re.sub(r'\\d+', '', text)\n",
    "\n",
    "vaksin['Tweet'] = vaksin['Tweet'].apply(remove_number)\n",
    "print(vaksin['Tweet'].head(10))"
   ]
  },
  {
   "cell_type": "code",
   "execution_count": 12,
   "metadata": {
    "colab": {
     "base_uri": "https://localhost:8080/"
    },
    "executionInfo": {
     "elapsed": 4940,
     "status": "ok",
     "timestamp": 1619537347500,
     "user": {
      "displayName": "Jumina Cahyani",
      "photoUrl": "https://lh3.googleusercontent.com/a-/AOh14GgXfs0fqTUtl6dZiqF71MSW1QQjK2BNt47qUPUS=s64",
      "userId": "06914602338279835826"
     },
     "user_tz": -480
    },
    "id": "4eiZSfpXvKpM",
    "outputId": "733a42c7-2f85-44be-9669-eb2eaf62fbdd"
   },
   "outputs": [
    {
     "name": "stdout",
     "output_type": "stream",
     "text": [
      "0    di indo dpt vaksin aja udh sukur  krn rebutan ...\n",
      "1                                  dah dapat vaksin ke\n",
      "2    rt  queen back off tak rugi apa kita ni dah  t...\n",
      "3    rt  tapi ingeten lagi ya rek m tetep kudu jala...\n",
      "4    rt  vaksin lambat dan tak mengutamakan guru da...\n",
      "5    forum vaksin pro  april  terima kasih kepada a...\n",
      "6               kelar vaksin di indonesia lanjot kerja\n",
      "7    rt  queen back off tak rugi apa kita ni dah  t...\n",
      "8    rt  queen back off tak rugi apa kita ni dah  t...\n",
      "9                          kudu bgt umroh di vaksin ya\n",
      "Name: Tweet, dtype: object\n"
     ]
    }
   ],
   "source": [
    "#menghapus punctuation\n",
    "def remove_punc(text):\n",
    "  return text.translate(str.maketrans('','',string.punctuation))\n",
    "\n",
    "vaksin['Tweet'] = vaksin['Tweet'].apply(remove_punc)\n",
    "print(vaksin['Tweet'].head(10))"
   ]
  },
  {
   "cell_type": "code",
   "execution_count": 13,
   "metadata": {
    "colab": {
     "base_uri": "https://localhost:8080/"
    },
    "executionInfo": {
     "elapsed": 4932,
     "status": "ok",
     "timestamp": 1619537347503,
     "user": {
      "displayName": "Jumina Cahyani",
      "photoUrl": "https://lh3.googleusercontent.com/a-/AOh14GgXfs0fqTUtl6dZiqF71MSW1QQjK2BNt47qUPUS=s64",
      "userId": "06914602338279835826"
     },
     "user_tz": -480
    },
    "id": "Na0O8DycvuW7",
    "outputId": "a1d82f40-368c-4449-9f77-f2239bc1a693"
   },
   "outputs": [
    {
     "name": "stdout",
     "output_type": "stream",
     "text": [
      "0    di indo dpt vaksin aja udh sukur  krn rebutan ...\n",
      "1                                  dah dapat vaksin ke\n",
      "2    rt  queen back off tak rugi apa kita ni dah  t...\n",
      "3    rt  tapi ingeten lagi ya rek m tetep kudu jala...\n",
      "4    rt  vaksin lambat dan tak mengutamakan guru da...\n",
      "5    forum vaksin pro  april  terima kasih kepada a...\n",
      "6               kelar vaksin di indonesia lanjot kerja\n",
      "7    rt  queen back off tak rugi apa kita ni dah  t...\n",
      "8    rt  queen back off tak rugi apa kita ni dah  t...\n",
      "9                          kudu bgt umroh di vaksin ya\n",
      "Name: Tweet, dtype: object\n"
     ]
    }
   ],
   "source": [
    "#menghapus whitespace\n",
    "def remove_ws(text):\n",
    "  return text.strip()\n",
    "\n",
    "vaksin['Tweet'] = vaksin['Tweet'].apply(remove_ws)\n",
    "print(vaksin['Tweet'].head(10))"
   ]
  },
  {
   "cell_type": "code",
   "execution_count": 14,
   "metadata": {
    "colab": {
     "base_uri": "https://localhost:8080/"
    },
    "executionInfo": {
     "elapsed": 4875,
     "status": "ok",
     "timestamp": 1619537347513,
     "user": {
      "displayName": "Jumina Cahyani",
      "photoUrl": "https://lh3.googleusercontent.com/a-/AOh14GgXfs0fqTUtl6dZiqF71MSW1QQjK2BNt47qUPUS=s64",
      "userId": "06914602338279835826"
     },
     "user_tz": -480
    },
    "id": "wIu1ns70wIJJ",
    "outputId": "b4ffda5a-fecc-424d-ecc4-57e42fe6fcbf"
   },
   "outputs": [
    {
     "name": "stdout",
     "output_type": "stream",
     "text": [
      "0    di indo dpt vaksin aja udh sukur krn rebutan p...\n",
      "1                                  dah dapat vaksin ke\n",
      "2    rt queen back off tak rugi apa kita ni dah tah...\n",
      "3    rt tapi ingeten lagi ya rek m tetep kudu jalan...\n",
      "4    rt vaksin lambat dan tak mengutamakan guru dah...\n",
      "5    forum vaksin pro april terima kasih kepada ahl...\n",
      "6               kelar vaksin di indonesia lanjot kerja\n",
      "7    rt queen back off tak rugi apa kita ni dah tah...\n",
      "8    rt queen back off tak rugi apa kita ni dah tah...\n",
      "9                          kudu bgt umroh di vaksin ya\n",
      "Name: Tweet, dtype: object\n"
     ]
    }
   ],
   "source": [
    "#mengubah whitespace ganda jadi tunggal\n",
    "def remove_wsganda(text):\n",
    "  return re.sub('\\s+', ' ', text)\n",
    "\n",
    "vaksin['Tweet'] = vaksin['Tweet'].apply(remove_wsganda)\n",
    "print(vaksin['Tweet'].head(10))"
   ]
  },
  {
   "cell_type": "code",
   "execution_count": 15,
   "metadata": {
    "colab": {
     "base_uri": "https://localhost:8080/"
    },
    "executionInfo": {
     "elapsed": 4866,
     "status": "ok",
     "timestamp": 1619537347517,
     "user": {
      "displayName": "Jumina Cahyani",
      "photoUrl": "https://lh3.googleusercontent.com/a-/AOh14GgXfs0fqTUtl6dZiqF71MSW1QQjK2BNt47qUPUS=s64",
      "userId": "06914602338279835826"
     },
     "user_tz": -480
    },
    "id": "y-fDD8qpw08x",
    "outputId": "17215d54-6da9-435b-faba-2234fee2479f"
   },
   "outputs": [
    {
     "name": "stdout",
     "output_type": "stream",
     "text": [
      "0    di indo dpt vaksin aja udh sukur krn rebutan p...\n",
      "1                                  dah dapat vaksin ke\n",
      "2    rt queen back off tak rugi apa kita ni dah tah...\n",
      "3    rt tapi ingeten lagi ya rek  tetep kudu jalan ...\n",
      "4    rt vaksin lambat dan tak mengutamakan guru dah...\n",
      "5    forum vaksin pro april terima kasih kepada ahl...\n",
      "6               kelar vaksin di indonesia lanjot kerja\n",
      "7    rt queen back off tak rugi apa kita ni dah tah...\n",
      "8    rt queen back off tak rugi apa kita ni dah tah...\n",
      "9                          kudu bgt umroh di vaksin ya\n",
      "Name: Tweet, dtype: object\n"
     ]
    }
   ],
   "source": [
    "#menghapus single character\n",
    "def remove_single(text):\n",
    "  return re.sub(r'\\b[a-zA-Z]\\b', '', text)\n",
    "\n",
    "vaksin['Tweet'] = vaksin['Tweet'].apply(remove_single)\n",
    "print(vaksin['Tweet'].head(10))"
   ]
  },
  {
   "cell_type": "code",
   "execution_count": 16,
   "metadata": {
    "colab": {
     "base_uri": "https://localhost:8080/"
    },
    "executionInfo": {
     "elapsed": 6823,
     "status": "ok",
     "timestamp": 1619537349485,
     "user": {
      "displayName": "Jumina Cahyani",
      "photoUrl": "https://lh3.googleusercontent.com/a-/AOh14GgXfs0fqTUtl6dZiqF71MSW1QQjK2BNt47qUPUS=s64",
      "userId": "06914602338279835826"
     },
     "user_tz": -480
    },
    "id": "sEBFAAJyxbng",
    "outputId": "3da69a8b-4e8b-469a-fea7-829c297562bf"
   },
   "outputs": [
    {
     "data": {
      "text/html": [
       "<div>\n",
       "<style scoped>\n",
       "    .dataframe tbody tr th:only-of-type {\n",
       "        vertical-align: middle;\n",
       "    }\n",
       "\n",
       "    .dataframe tbody tr th {\n",
       "        vertical-align: top;\n",
       "    }\n",
       "\n",
       "    .dataframe thead th {\n",
       "        text-align: right;\n",
       "    }\n",
       "</style>\n",
       "<table border=\"1\" class=\"dataframe\">\n",
       "  <thead>\n",
       "    <tr style=\"text-align: right;\">\n",
       "      <th></th>\n",
       "      <th>Tanggal</th>\n",
       "      <th>Username</th>\n",
       "      <th>Tweet</th>\n",
       "    </tr>\n",
       "  </thead>\n",
       "  <tbody>\n",
       "    <tr>\n",
       "      <th>0</th>\n",
       "      <td>2021-04-25 12:36:09</td>\n",
       "      <td>dikuunnn</td>\n",
       "      <td>di indo dpt vaksin aja udh sukur krn rebutan p...</td>\n",
       "    </tr>\n",
       "    <tr>\n",
       "      <th>1</th>\n",
       "      <td>\\n2021-04-25 12:36:07</td>\n",
       "      <td>nlwtr_</td>\n",
       "      <td>dah dapat vaksin ke</td>\n",
       "    </tr>\n",
       "    <tr>\n",
       "      <th>2</th>\n",
       "      <td>\\n2021-04-25 12:36:05</td>\n",
       "      <td>eiwann98</td>\n",
       "      <td>queen back off tak rugi apa kita ni dah tahun...</td>\n",
       "    </tr>\n",
       "    <tr>\n",
       "      <th>3</th>\n",
       "      <td>\\n2021-04-25 12:35:36</td>\n",
       "      <td>yusufgunawan</td>\n",
       "      <td>tapi ingeten lagi ya rek  tetep kudu jalan me...</td>\n",
       "    </tr>\n",
       "    <tr>\n",
       "      <th>4</th>\n",
       "      <td>\\n2021-04-25 12:35:32</td>\n",
       "      <td>nrsyfqhathrh</td>\n",
       "      <td>vaksin lambat dan tak mengutamakan guru dah m...</td>\n",
       "    </tr>\n",
       "  </tbody>\n",
       "</table>\n",
       "</div>"
      ],
      "text/plain": [
       "                 Tanggal      Username  \\\n",
       "0    2021-04-25 12:36:09      dikuunnn   \n",
       "1  \\n2021-04-25 12:36:07        nlwtr_   \n",
       "2  \\n2021-04-25 12:36:05      eiwann98   \n",
       "3  \\n2021-04-25 12:35:36  yusufgunawan   \n",
       "4  \\n2021-04-25 12:35:32  nrsyfqhathrh   \n",
       "\n",
       "                                               Tweet  \n",
       "0  di indo dpt vaksin aja udh sukur krn rebutan p...  \n",
       "1                                dah dapat vaksin ke  \n",
       "2   queen back off tak rugi apa kita ni dah tahun...  \n",
       "3   tapi ingeten lagi ya rek  tetep kudu jalan me...  \n",
       "4   vaksin lambat dan tak mengutamakan guru dah m...  "
      ]
     },
     "execution_count": 16,
     "metadata": {},
     "output_type": "execute_result"
    }
   ],
   "source": [
    "#menghapus brt\n",
    "def remove_brt(text):\n",
    "  return re.sub('rt', '', text)\n",
    "\n",
    "vaksin['Tweet'] = vaksin['Tweet'].apply(remove_brt)\n",
    "vaksin.head(5)"
   ]
  },
  {
   "cell_type": "code",
   "execution_count": 17,
   "metadata": {
    "colab": {
     "base_uri": "https://localhost:8080/"
    },
    "executionInfo": {
     "elapsed": 7659,
     "status": "ok",
     "timestamp": 1619537350334,
     "user": {
      "displayName": "Jumina Cahyani",
      "photoUrl": "https://lh3.googleusercontent.com/a-/AOh14GgXfs0fqTUtl6dZiqF71MSW1QQjK2BNt47qUPUS=s64",
      "userId": "06914602338279835826"
     },
     "user_tz": -480
    },
    "id": "qXqpzZHbxxeK",
    "outputId": "fb309eb7-5a72-4ee2-844a-98318e7104ee"
   },
   "outputs": [
    {
     "name": "stdout",
     "output_type": "stream",
     "text": [
      "0    [di, indo, dpt, vaksin, aja, udh, sukur, krn, ...\n",
      "1                             [dah, dapat, vaksin, ke]\n",
      "2    [queen, back, off, tak, rugi, apa, kita, ni, d...\n",
      "3    [tapi, ingeten, lagi, ya, rek, tetep, kudu, ja...\n",
      "4    [vaksin, lambat, dan, tak, mengutamakan, guru,...\n",
      "Name: Tweets, dtype: object\n"
     ]
    }
   ],
   "source": [
    "#word tokenize\n",
    "def word_rekonizing(text):\n",
    "  return word_tokenize(text)\n",
    "\n",
    "vaksin['Tweets'] = vaksin['Tweet'].apply(word_rekonizing)\n",
    "print(vaksin['Tweets'].head())"
   ]
  },
  {
   "cell_type": "code",
   "execution_count": 18,
   "metadata": {},
   "outputs": [
    {
     "data": {
      "text/html": [
       "<div>\n",
       "<style scoped>\n",
       "    .dataframe tbody tr th:only-of-type {\n",
       "        vertical-align: middle;\n",
       "    }\n",
       "\n",
       "    .dataframe tbody tr th {\n",
       "        vertical-align: top;\n",
       "    }\n",
       "\n",
       "    .dataframe thead th {\n",
       "        text-align: right;\n",
       "    }\n",
       "</style>\n",
       "<table border=\"1\" class=\"dataframe\">\n",
       "  <thead>\n",
       "    <tr style=\"text-align: right;\">\n",
       "      <th></th>\n",
       "      <th>Tanggal</th>\n",
       "      <th>Username</th>\n",
       "      <th>Tweet</th>\n",
       "      <th>Tweets</th>\n",
       "    </tr>\n",
       "  </thead>\n",
       "  <tbody>\n",
       "    <tr>\n",
       "      <th>0</th>\n",
       "      <td>2021-04-25 12:36:09</td>\n",
       "      <td>dikuunnn</td>\n",
       "      <td>di indo dpt vaksin aja udh sukur krn rebutan p...</td>\n",
       "      <td>[di, indo, dpt, vaksin, aja, udh, sukur, krn, ...</td>\n",
       "    </tr>\n",
       "    <tr>\n",
       "      <th>1</th>\n",
       "      <td>\\n2021-04-25 12:36:07</td>\n",
       "      <td>nlwtr_</td>\n",
       "      <td>dah dapat vaksin ke</td>\n",
       "      <td>[dah, dapat, vaksin, ke]</td>\n",
       "    </tr>\n",
       "    <tr>\n",
       "      <th>2</th>\n",
       "      <td>\\n2021-04-25 12:36:05</td>\n",
       "      <td>eiwann98</td>\n",
       "      <td>queen back off tak rugi apa kita ni dah tahun...</td>\n",
       "      <td>[queen, back, off, tak, rugi, apa, kita, ni, d...</td>\n",
       "    </tr>\n",
       "    <tr>\n",
       "      <th>3</th>\n",
       "      <td>\\n2021-04-25 12:35:36</td>\n",
       "      <td>yusufgunawan</td>\n",
       "      <td>tapi ingeten lagi ya rek  tetep kudu jalan me...</td>\n",
       "      <td>[tapi, ingeten, lagi, ya, rek, tetep, kudu, ja...</td>\n",
       "    </tr>\n",
       "    <tr>\n",
       "      <th>4</th>\n",
       "      <td>\\n2021-04-25 12:35:32</td>\n",
       "      <td>nrsyfqhathrh</td>\n",
       "      <td>vaksin lambat dan tak mengutamakan guru dah m...</td>\n",
       "      <td>[vaksin, lambat, dan, tak, mengutamakan, guru,...</td>\n",
       "    </tr>\n",
       "  </tbody>\n",
       "</table>\n",
       "</div>"
      ],
      "text/plain": [
       "                 Tanggal      Username  \\\n",
       "0    2021-04-25 12:36:09      dikuunnn   \n",
       "1  \\n2021-04-25 12:36:07        nlwtr_   \n",
       "2  \\n2021-04-25 12:36:05      eiwann98   \n",
       "3  \\n2021-04-25 12:35:36  yusufgunawan   \n",
       "4  \\n2021-04-25 12:35:32  nrsyfqhathrh   \n",
       "\n",
       "                                               Tweet  \\\n",
       "0  di indo dpt vaksin aja udh sukur krn rebutan p...   \n",
       "1                                dah dapat vaksin ke   \n",
       "2   queen back off tak rugi apa kita ni dah tahun...   \n",
       "3   tapi ingeten lagi ya rek  tetep kudu jalan me...   \n",
       "4   vaksin lambat dan tak mengutamakan guru dah m...   \n",
       "\n",
       "                                              Tweets  \n",
       "0  [di, indo, dpt, vaksin, aja, udh, sukur, krn, ...  \n",
       "1                           [dah, dapat, vaksin, ke]  \n",
       "2  [queen, back, off, tak, rugi, apa, kita, ni, d...  \n",
       "3  [tapi, ingeten, lagi, ya, rek, tetep, kudu, ja...  \n",
       "4  [vaksin, lambat, dan, tak, mengutamakan, guru,...  "
      ]
     },
     "execution_count": 18,
     "metadata": {},
     "output_type": "execute_result"
    }
   ],
   "source": [
    "vaksin.head(5)"
   ]
  },
  {
   "cell_type": "markdown",
   "metadata": {
    "id": "S6OB5o0xzevz"
   },
   "source": [
    "# **FILTERING (STOPWORD REMOVAL)**"
   ]
  },
  {
   "cell_type": "code",
   "execution_count": 19,
   "metadata": {
    "id": "FG4tUfU4IEH5"
   },
   "outputs": [],
   "source": [
    "stopword = nltk.corpus.stopwords.words('indonesian')"
   ]
  },
  {
   "cell_type": "code",
   "execution_count": 20,
   "metadata": {
    "colab": {
     "base_uri": "https://localhost:8080/"
    },
    "executionInfo": {
     "elapsed": 7643,
     "status": "ok",
     "timestamp": 1619537350337,
     "user": {
      "displayName": "Jumina Cahyani",
      "photoUrl": "https://lh3.googleusercontent.com/a-/AOh14GgXfs0fqTUtl6dZiqF71MSW1QQjK2BNt47qUPUS=s64",
      "userId": "06914602338279835826"
     },
     "user_tz": -480
    },
    "id": "b1p_s4IvRXmk",
    "outputId": "213119a7-db8e-40af-acbc-f958e42867a7"
   },
   "outputs": [
    {
     "name": "stdout",
     "output_type": "stream",
     "text": [
      "0    [indo, dpt, vaksin, aja, udh, sukur, krn, rebu...\n",
      "1                                        [dah, vaksin]\n",
      "2    [queen, back, off, rugi, ni, dah, beraya, kamp...\n",
      "3    [ingeten, ya, rek, tetep, kudu, jalan, angka, ...\n",
      "4    [vaksin, lambat, mengutamakan, guru, dah, muri...\n",
      "Name: filtering, dtype: object\n"
     ]
    }
   ],
   "source": [
    "def remove_stopwords(text):\n",
    "  text = [word for word in text if word not in stopword]\n",
    "  return text\n",
    "\n",
    "vaksin['filtering'] = vaksin['Tweets'].apply(remove_stopwords)\n",
    "print(vaksin['filtering'].head())"
   ]
  },
  {
   "cell_type": "code",
   "execution_count": 21,
   "metadata": {},
   "outputs": [],
   "source": [
    "def fit_stopwords(text):\n",
    "    text = np.array(text)\n",
    "    text = ' '.join(text)\n",
    "    return text\n",
    "vaksin['filtering'] = vaksin['filtering'].apply(fit_stopwords)"
   ]
  },
  {
   "cell_type": "code",
   "execution_count": 22,
   "metadata": {},
   "outputs": [
    {
     "data": {
      "text/html": [
       "<div>\n",
       "<style scoped>\n",
       "    .dataframe tbody tr th:only-of-type {\n",
       "        vertical-align: middle;\n",
       "    }\n",
       "\n",
       "    .dataframe tbody tr th {\n",
       "        vertical-align: top;\n",
       "    }\n",
       "\n",
       "    .dataframe thead th {\n",
       "        text-align: right;\n",
       "    }\n",
       "</style>\n",
       "<table border=\"1\" class=\"dataframe\">\n",
       "  <thead>\n",
       "    <tr style=\"text-align: right;\">\n",
       "      <th></th>\n",
       "      <th>Tanggal</th>\n",
       "      <th>Username</th>\n",
       "      <th>Tweet</th>\n",
       "      <th>Tweets</th>\n",
       "      <th>filtering</th>\n",
       "    </tr>\n",
       "  </thead>\n",
       "  <tbody>\n",
       "    <tr>\n",
       "      <th>0</th>\n",
       "      <td>2021-04-25 12:36:09</td>\n",
       "      <td>dikuunnn</td>\n",
       "      <td>di indo dpt vaksin aja udh sukur krn rebutan p...</td>\n",
       "      <td>[di, indo, dpt, vaksin, aja, udh, sukur, krn, ...</td>\n",
       "      <td>indo dpt vaksin aja udh sukur krn rebutan pd v...</td>\n",
       "    </tr>\n",
       "    <tr>\n",
       "      <th>1</th>\n",
       "      <td>\\n2021-04-25 12:36:07</td>\n",
       "      <td>nlwtr_</td>\n",
       "      <td>dah dapat vaksin ke</td>\n",
       "      <td>[dah, dapat, vaksin, ke]</td>\n",
       "      <td>dah vaksin</td>\n",
       "    </tr>\n",
       "    <tr>\n",
       "      <th>2</th>\n",
       "      <td>\\n2021-04-25 12:36:05</td>\n",
       "      <td>eiwann98</td>\n",
       "      <td>queen back off tak rugi apa kita ni dah tahun...</td>\n",
       "      <td>[queen, back, off, tak, rugi, apa, kita, ni, d...</td>\n",
       "      <td>queen back off rugi ni dah beraya kampung mak ...</td>\n",
       "    </tr>\n",
       "    <tr>\n",
       "      <th>3</th>\n",
       "      <td>\\n2021-04-25 12:35:36</td>\n",
       "      <td>yusufgunawan</td>\n",
       "      <td>tapi ingeten lagi ya rek  tetep kudu jalan me...</td>\n",
       "      <td>[tapi, ingeten, lagi, ya, rek, tetep, kudu, ja...</td>\n",
       "      <td>ingeten ya rek tetep kudu jalan angka menurun ...</td>\n",
       "    </tr>\n",
       "    <tr>\n",
       "      <th>4</th>\n",
       "      <td>\\n2021-04-25 12:35:32</td>\n",
       "      <td>nrsyfqhathrh</td>\n",
       "      <td>vaksin lambat dan tak mengutamakan guru dah m...</td>\n",
       "      <td>[vaksin, lambat, dan, tak, mengutamakan, guru,...</td>\n",
       "      <td>vaksin lambat mengutamakan guru dah murid utam...</td>\n",
       "    </tr>\n",
       "  </tbody>\n",
       "</table>\n",
       "</div>"
      ],
      "text/plain": [
       "                 Tanggal      Username  \\\n",
       "0    2021-04-25 12:36:09      dikuunnn   \n",
       "1  \\n2021-04-25 12:36:07        nlwtr_   \n",
       "2  \\n2021-04-25 12:36:05      eiwann98   \n",
       "3  \\n2021-04-25 12:35:36  yusufgunawan   \n",
       "4  \\n2021-04-25 12:35:32  nrsyfqhathrh   \n",
       "\n",
       "                                               Tweet  \\\n",
       "0  di indo dpt vaksin aja udh sukur krn rebutan p...   \n",
       "1                                dah dapat vaksin ke   \n",
       "2   queen back off tak rugi apa kita ni dah tahun...   \n",
       "3   tapi ingeten lagi ya rek  tetep kudu jalan me...   \n",
       "4   vaksin lambat dan tak mengutamakan guru dah m...   \n",
       "\n",
       "                                              Tweets  \\\n",
       "0  [di, indo, dpt, vaksin, aja, udh, sukur, krn, ...   \n",
       "1                           [dah, dapat, vaksin, ke]   \n",
       "2  [queen, back, off, tak, rugi, apa, kita, ni, d...   \n",
       "3  [tapi, ingeten, lagi, ya, rek, tetep, kudu, ja...   \n",
       "4  [vaksin, lambat, dan, tak, mengutamakan, guru,...   \n",
       "\n",
       "                                           filtering  \n",
       "0  indo dpt vaksin aja udh sukur krn rebutan pd v...  \n",
       "1                                         dah vaksin  \n",
       "2  queen back off rugi ni dah beraya kampung mak ...  \n",
       "3  ingeten ya rek tetep kudu jalan angka menurun ...  \n",
       "4  vaksin lambat mengutamakan guru dah murid utam...  "
      ]
     },
     "execution_count": 22,
     "metadata": {},
     "output_type": "execute_result"
    }
   ],
   "source": [
    "vaksin.head(5)"
   ]
  },
  {
   "cell_type": "code",
   "execution_count": 23,
   "metadata": {
    "id": "7uIgwTX89zHW"
   },
   "outputs": [],
   "source": [
    "vaksin[['Username','filtering']].to_csv(\"text_preprocessing10.csv\")"
   ]
  },
  {
   "cell_type": "code",
   "execution_count": null,
   "metadata": {
    "id": "6zYkkJ81DhO2"
   },
   "outputs": [],
   "source": []
  }
 ],
 "metadata": {
  "colab": {
   "authorship_tag": "ABX9TyO4on4qoHUoLs94F7x67PQA",
   "collapsed_sections": [],
   "name": "text preprocessing.ipynb",
   "provenance": [],
   "toc_visible": true
  },
  "kernelspec": {
   "display_name": "Python 3",
   "language": "python",
   "name": "python3"
  },
  "language_info": {
   "codemirror_mode": {
    "name": "ipython",
    "version": 3
   },
   "file_extension": ".py",
   "mimetype": "text/x-python",
   "name": "python",
   "nbconvert_exporter": "python",
   "pygments_lexer": "ipython3",
   "version": "3.7.2"
  }
 },
 "nbformat": 4,
 "nbformat_minor": 1
}
