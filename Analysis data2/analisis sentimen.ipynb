{
 "cells": [
  {
   "cell_type": "code",
   "execution_count": 5,
   "id": "682a9033",
   "metadata": {},
   "outputs": [],
   "source": [
    "import tweepy\n",
    "import re\n",
    "from textblob import TextBlob\n",
    "import pandas as pd\n",
    "from pandas import DataFrame\n",
    "import csv\n",
    "\n",
    "\n",
    "import numpy as np\n",
    "import joblib\n",
    "import pickle\n",
    "from sklearn import model_selection\n",
    "from sklearn.linear_model import LogisticRegression\n",
    "from sklearn.multiclass import OneVsRestClassifier\n",
    "from sklearn.naive_bayes import MultinomialNB\n",
    "from sklearn.metrics import classification_report\n",
    "from sklearn.model_selection import train_test_split\n",
    "from sklearn.feature_extraction.text import CountVectorizer\n",
    "from sklearn.feature_extraction.text import TfidfTransformer\n",
    "from sklearn.pipeline import Pipeline\n",
    "from sklearn.metrics import accuracy_score"
   ]
  },
  {
   "cell_type": "code",
   "execution_count": 19,
   "id": "a249445a",
   "metadata": {},
   "outputs": [],
   "source": [
    "api_key = '1i8jwgi0gOPEWKmE97rZXQA75'\n",
    "api_secret_key = 'GcS1hK8ptIS0zOYbtdQEIaPGPUDG8PWSLYJLdqICn6e5hxc1e5'\n",
    "access_token = '1385974544972738561-akbxblNYYOyVHKkxjV3W5Ideg2jSCq'\n",
    "access_token_secret = 'a5jLvkQ0CpIi0d1XChg8IZEhGWToNiKiNG5IfJDGhrS4C'"
   ]
  },
  {
   "cell_type": "code",
   "execution_count": 20,
   "id": "c017c47d",
   "metadata": {},
   "outputs": [],
   "source": [
    "auth = tweepy.OAuthHandler(api_key,api_secret_key)\n",
    "auth.set_access_token(access_token,access_token_secret)\n",
    "api = tweepy.API(auth)"
   ]
  },
  {
   "cell_type": "code",
   "execution_count": 46,
   "id": "07ae9223",
   "metadata": {},
   "outputs": [],
   "source": [
    "hasilSearch = api.search(q=\"vaksin\",lang=\"en\", count=8000)"
   ]
  },
  {
   "cell_type": "code",
   "execution_count": 145,
   "id": "123df7cf",
   "metadata": {},
   "outputs": [],
   "source": [
    "hasil = []"
   ]
  },
  {
   "cell_type": "code",
   "execution_count": 146,
   "id": "1ac204c5",
   "metadata": {
    "scrolled": true
   },
   "outputs": [
    {
     "name": "stdout",
     "output_type": "stream",
     "text": [
      "RT @melakaboy: Look. VAKSIN COVID yang paling mahal pun below RM 100 I'm sure at least 5 Million Malaysians are willing to pay for our own…\n",
      "@BTSVotingIndo @BTS_twt vaksin\n",
      "\n",
      "INDOMY HERE FOR BTS\n",
      "I vote #BTSARMY  for #BestFanArmy at the 2021 #iHeartAwards @BTS_twt\n",
      "Ayah orang terakhir hari ni kena vaksin sebab takut. Rupanya before kena vaksin dia punya surrounding people mostly… https://t.co/HiLiV4PDeU\n",
      "Vaksin ni macam seatbelt actually .\n",
      "@shimkoongnim Done my first dose last sunday. Mine is astrazeneca vaksin. Kamu?\n",
      "RT @AmiKimmy: I had my first AZ jab today but i dont feel like taking a photo. Why? Earlier i stop by Petron and the workers there said “Ki…\n",
      "RT @AmiKimmy: I had my first AZ jab today but i dont feel like taking a photo. Why? Earlier i stop by Petron and the workers there said “Ki…\n",
      "Vaksin appointment = Done 😬\n",
      "done 💉 appointment 5.30, datang 4.30, settle vaksin 5.25 😂 https://t.co/oxSRyvOMMh\n",
      "Betul , vaksin tk boleh prevent 100% Covid-19..the virus become controllable if you take the vaccines..Covid-19 sti… https://t.co/xb0Bm2OiqL\n",
      "RT @melakaboy: Look. VAKSIN COVID yang paling mahal pun below RM 100 I'm sure at least 5 Million Malaysians are willing to pay for our own…\n",
      "RT @melakaboy: Look. VAKSIN COVID yang paling mahal pun below RM 100 I'm sure at least 5 Million Malaysians are willing to pay for our own…\n",
      "RT @AmiKimmy: I had my first AZ jab today but i dont feel like taking a photo. Why? Earlier i stop by Petron and the workers there said “Ki…\n",
      "RT @intnafqh_: @AdDien90 Please report this acc.. im tired almost all my family members x percaya vaksin.. sbb org mcm ni la they put my lo…\n",
      "RT @spearbchngbn: gonna leave this here for those yang tak save my whatsapp number heheh jangan takut k ambik vaksin. prevention is better…\n",
      "RT @spearbchngbn: gonna leave this here for those yang tak save my whatsapp number heheh jangan takut k ambik vaksin. prevention is better…\n",
      "RT @spearbchngbn: gonna leave this here for those yang tak save my whatsapp number heheh jangan takut k ambik vaksin. prevention is better…\n",
      "RT @AmiKimmy: I had my first AZ jab today but i dont feel like taking a photo. Why? Earlier i stop by Petron and the workers there said “Ki…\n",
      "RT @intnafqh_: @AdDien90 Please report this acc.. im tired almost all my family members x percaya vaksin.. sbb org mcm ni la they put my lo…\n",
      "RT @AmiKimmy: I had my first AZ jab today but i dont feel like taking a photo. Why? Earlier i stop by Petron and the workers there said “Ki…\n",
      "RT @melakaboy: Look. VAKSIN COVID yang paling mahal pun below RM 100 I'm sure at least 5 Million Malaysians are willing to pay for our own…\n",
      "RT @AmiKimmy: I had my first AZ jab today but i dont feel like taking a photo. Why? Earlier i stop by Petron and the workers there said “Ki…\n",
      "RT @MizanIskandar: @edjunaidi @anthraxxxx lets face it.. malaysia is in 1T debt + further misappropriation of funds by moomoo to employ 70…\n",
      "i heard one of my family member dekat kelantan tak nak ambil vaksin. this thing actually happened .......\n",
      "RT @melakaboy: Look. VAKSIN COVID yang paling mahal pun below RM 100 I'm sure at least 5 Million Malaysians are willing to pay for our own…\n",
      "@guanenglim why you think a company will donate 2m vaksin without something in return? the costs should not be chea… https://t.co/umd4wLtRrp\n",
      "RT @AmiKimmy: I had my first AZ jab today but i dont feel like taking a photo. Why? Earlier i stop by Petron and the workers there said “Ki…\n",
      "@malaymail @Khairykj my mother warga emas still belum dpt vaksin , any reason why?\n",
      "RT @melakaboy: Look. VAKSIN COVID yang paling mahal pun below RM 100 I'm sure at least 5 Million Malaysians are willing to pay for our own…\n",
      "RT @AmiKimmy: I had my first AZ jab today but i dont feel like taking a photo. Why? Earlier i stop by Petron and the workers there said “Ki…\n",
      "RT @melakaboy: Look. VAKSIN COVID yang paling mahal pun below RM 100 I'm sure at least 5 Million Malaysians are willing to pay for our own…\n",
      "RT @melakaboy: Look. VAKSIN COVID yang paling mahal pun below RM 100 I'm sure at least 5 Million Malaysians are willing to pay for our own…\n",
      "@myg_filter Have u cuba, tell them no vaksin nk travel? i pun kene gtau mcm2 kat my parents ms mula2 daftar dulu. A… https://t.co/40n3NbjKGh\n",
      "First dose vaksin i dapat few days after released dari pusat kuarantin.\n",
      "@ainsafiqah_ *its bcs my mum yang attend atok to pusat vaksin.\n",
      "RT @spearbchngbn: gonna leave this here for those yang tak save my whatsapp number heheh jangan takut k ambik vaksin. prevention is better…\n",
      "RT @AmiKimmy: I had my first AZ jab today but i dont feel like taking a photo. Why? Earlier i stop by Petron and the workers there said “Ki…\n",
      "RT @melakaboy: Look. VAKSIN COVID yang paling mahal pun below RM 100 I'm sure at least 5 Million Malaysians are willing to pay for our own…\n",
      "RT @melakaboy: Look. VAKSIN COVID yang paling mahal pun below RM 100 I'm sure at least 5 Million Malaysians are willing to pay for our own…\n",
      "RT @intnafqh_: @AdDien90 Please report this acc.. im tired almost all my family members x percaya vaksin.. sbb org mcm ni la they put my lo…\n",
      "@SyafieMustafa Sadly i do have a friend like this, jenis kuat mengkaji segala agenda2 ni and sampai xnak ambik vaks… https://t.co/TZ7aeQbt1t\n",
      "RT @AmiKimmy: I had my first AZ jab today but i dont feel like taking a photo. Why? Earlier i stop by Petron and the workers there said “Ki…\n",
      "RT @melakaboy: Look. VAKSIN COVID yang paling mahal pun below RM 100 I'm sure at least 5 Million Malaysians are willing to pay for our own…\n",
      "RT @spearbchngbn: gonna leave this here for those yang tak save my whatsapp number heheh jangan takut k ambik vaksin. prevention is better…\n",
      "Thanks to @WHO @UNICEF \n",
      "@gavi and #COVAX partners, first vaccins reach 🇻🇺 tonight. Solidarity is the key. @CdCMAE… https://t.co/uvmOwf1stw\n",
      "RT @YbSadik: KJ, you are playing with peoples life.. the more vaksin we get, more people will be vaccinated &amp; will have better defence agai…\n",
      "RT @fuzahkifli: Guys, look at the case today, 6K 🤯 Please educate your families, friends, loved ones to take the vaccine. Whatever vaccine…\n",
      "RT @intnafqh_: @AdDien90 Please report this acc.. im tired almost all my family members x percaya vaksin.. sbb org mcm ni la they put my lo…\n",
      "RT @spearbchngbn: gonna leave this here for those yang tak save my whatsapp number heheh jangan takut k ambik vaksin. prevention is better…\n",
      "RT @spearbchngbn: gonna leave this here for those yang tak save my whatsapp number heheh jangan takut k ambik vaksin. prevention is better…\n",
      "RT @intnafqh_: @AdDien90 Please report this acc.. im tired almost all my family members x percaya vaksin.. sbb org mcm ni la they put my lo…\n",
      "RT @melakaboy: Look. VAKSIN COVID yang paling mahal pun below RM 100 I'm sure at least 5 Million Malaysians are willing to pay for our own…\n",
      "While Malaysia still taknak execute fully lockdown sebab takut ekonomi terjejas katanya. Then why taknak prioritize… https://t.co/s6jhxuYnwr\n",
      "RT @YbSadik: KJ, you are playing with peoples life.. the more vaksin we get, more people will be vaccinated &amp; will have better defence agai…\n",
      "RT @AmiKimmy: I had my first AZ jab today but i dont feel like taking a photo. Why? Earlier i stop by Petron and the workers there said “Ki…\n",
      "RT @spearbchngbn: gonna leave this here for those yang tak save my whatsapp number heheh jangan takut k ambik vaksin. prevention is better…\n",
      "RT @spearbchngbn: gonna leave this here for those yang tak save my whatsapp number heheh jangan takut k ambik vaksin. prevention is better…\n",
      "RT @AmiKimmy: I had my first AZ jab today but i dont feel like taking a photo. Why? Earlier i stop by Petron and the workers there said “Ki…\n",
      "RT @intnafqh_: @AdDien90 Please report this acc.. im tired almost all my family members x percaya vaksin.. sbb org mcm ni la they put my lo…\n",
      "RT @AmiKimmy: I had my first AZ jab today but i dont feel like taking a photo. Why? Earlier i stop by Petron and the workers there said “Ki…\n",
      "Mana derma vaksin tu boss ... pls clear that first ya ... with PC pls. https://t.co/2uuE9LA4ct\n",
      "RT @mistaaimanvevo: @nadiazaman__ @DrDzul According to DOSM (2020), 37% of Malaysia's GDP contributes from Klang Valley (KV), and contribut…\n",
      "RT @AmiKimmy: I had my first AZ jab today but i dont feel like taking a photo. Why? Earlier i stop by Petron and the workers there said “Ki…\n",
      "RT @spearbchngbn: gonna leave this here for those yang tak save my whatsapp number heheh jangan takut k ambik vaksin. prevention is better…\n",
      "The number of covid cases 📈\n",
      "The number of people takut nak ambik vaksin also 📈\n",
      "RT @spearbchngbn: gonna leave this here for those yang tak save my whatsapp number heheh jangan takut k ambik vaksin. prevention is better…\n",
      "RT @spearbchngbn: gonna leave this here for those yang tak save my whatsapp number heheh jangan takut k ambik vaksin. prevention is better…\n",
      "RT @spearbchngbn: gonna leave this here for those yang tak save my whatsapp number heheh jangan takut k ambik vaksin. prevention is better…\n",
      "RT @spearbchngbn: gonna leave this here for those yang tak save my whatsapp number heheh jangan takut k ambik vaksin. prevention is better…\n",
      "RT @AmiKimmy: I had my first AZ jab today but i dont feel like taking a photo. Why? Earlier i stop by Petron and the workers there said “Ki…\n",
      "memang Malaysia ni always economy first than everything 😐 even manusia punya health pun kau abaikan please dah laa… https://t.co/bdtxBvxzob\n",
      "RT @AmiKimmy: I had my first AZ jab today but i dont feel like taking a photo. Why? Earlier i stop by Petron and the workers there said “Ki…\n",
      "@_akmalNA just drink plenty of water, take panadol, and have a good rest within 48hrs of post vaccine. badan u tgh react dgn vaksin\n",
      "Aku patut amik vaksin lepas ni. I dont care of the side effects.\n",
      "RT @AmiKimmy: I had my first AZ jab today but i dont feel like taking a photo. Why? Earlier i stop by Petron and the workers there said “Ki…\n",
      "RT @fuzahkifli: Guys, look at the case today, 6K 🤯 Please educate your families, friends, loved ones to take the vaccine. Whatever vaccine…\n",
      "RT @AmiKimmy: I had my first AZ jab today but i dont feel like taking a photo. Why? Earlier i stop by Petron and the workers there said “Ki…\n",
      "RT @melakaboy: Look. VAKSIN COVID yang paling mahal pun below RM 100 I'm sure at least 5 Million Malaysians are willing to pay for our own…\n",
      "i nak vaksin please T_T\n",
      "RT @karmenlunarx: Lol boleh sponsor 2mil worth of vaksin tapi takde official office address \n",
      "\n",
      "Siap guna alamat rumah. 🌚\n",
      "The house address d…\n",
      "RT @spearbchngbn: gonna leave this here for those yang tak save my whatsapp number heheh jangan takut k ambik vaksin. prevention is better…\n",
      "RT @karmenlunarx: Lol boleh sponsor 2mil worth of vaksin tapi takde official office address \n",
      "\n",
      "Siap guna alamat rumah. 🌚\n",
      "The house address d…\n",
      "RT @AmiKimmy: I had my first AZ jab today but i dont feel like taking a photo. Why? Earlier i stop by Petron and the workers there said “Ki…\n",
      "RT @mistaaimanvevo: @nadiazaman__ @DrDzul According to DOSM (2020), 37% of Malaysia's GDP contributes from Klang Valley (KV), and contribut…\n",
      "The only sin i wish now is vaksin 🤲🏻\n",
      "- dont get it wrong\n",
      "RT @DrDzul: Salam Aidilfitri..\n",
      "Petikan Kenyataan Akhbar JK Vaksin PH:\n",
      "\"We urge the government to prioritise these 2 major pillars of the CO…\n",
      "RT @AmiKimmy: I had my first AZ jab today but i dont feel like taking a photo. Why? Earlier i stop by Petron and the workers there said “Ki…\n",
      "RT @intnafqh_: @AdDien90 Please report this acc.. im tired almost all my family members x percaya vaksin.. sbb org mcm ni la they put my lo…\n",
      "RT @spearbchngbn: gonna leave this here for those yang tak save my whatsapp number heheh jangan takut k ambik vaksin. prevention is better…\n",
      "RT @AmiKimmy: I had my first AZ jab today but i dont feel like taking a photo. Why? Earlier i stop by Petron and the workers there said “Ki…\n",
      "RT @AmiKimmy: I had my first AZ jab today but i dont feel like taking a photo. Why? Earlier i stop by Petron and the workers there said “Ki…\n",
      "RT @inaaashi: Vaksin AZ tu more effective for older people so go register for your grandparents!\n",
      "RT @AmiKimmy: I had my first AZ jab today but i dont feel like taking a photo. Why? Earlier i stop by Petron and the workers there said “Ki…\n",
      "RT @rsharminz_: @841128idayu @HausofHilton Sorry to interrupt. Just nak share bout my mom. She's 64 w chronic diseases (darah tinggi, diabe…\n",
      "RT @melakaboy: Look. VAKSIN COVID yang paling mahal pun below RM 100 I'm sure at least 5 Million Malaysians are willing to pay for our own…\n",
      "RT @spearbchngbn: gonna leave this here for those yang tak save my whatsapp number heheh jangan takut k ambik vaksin. prevention is better…\n",
      "RT @AmiKimmy: I had my first AZ jab today but i dont feel like taking a photo. Why? Earlier i stop by Petron and the workers there said “Ki…\n",
      "RT @intnafqh_: @AdDien90 Please report this acc.. im tired almost all my family members x percaya vaksin.. sbb org mcm ni la they put my lo…\n",
      "RT @intnafqh_: @AdDien90 Please report this acc.. im tired almost all my family members x percaya vaksin.. sbb org mcm ni la they put my lo…\n",
      "RT @spearbchngbn: gonna leave this here for those yang tak save my whatsapp number heheh jangan takut k ambik vaksin. prevention is better…\n"
     ]
    }
   ],
   "source": [
    "for tweet in hasilSearch:\n",
    "    tweet_properties = {}\n",
    "    \n",
    "    tweet_properties['tanggal_tweet'] = tweet.created_at\n",
    "    tweet_properties['pengguna'] = tweet.user.screen_name\n",
    "    tweet_properties['isi_tweet'] = tweet.text\n",
    "    \n",
    "    tweet_bersih = \" \".join(re.sub(\"RT|:|(@[A-Za-z0-9]+)|(\\w+:\\/\\/\\S+)\",\" \",tweet.text).split()) #menghapus hashtag, mention dan link\n",
    "\n",
    "    #proses case folding\n",
    "    tweet_bersih = tweet_bersih.lower() #membuat text menjadi huruf kecil semua\n",
    "\n",
    "    #proses tokenizing\n",
    "    tweet_bersih = tweet_bersih.replace('\\\\t', \" \").replace('\\\\n',\" \").replace('\\\\u', \" \").replace('\\\\', \"\")  #menghapus tab, new line, back slice\n",
    "    tweet_bersih = tweet_bersih.encode('ascii', 'replace').decode('ascii') #menghapus non ascii\n",
    "    \n",
    "    analysis = TextBlob(tweet_bersih)\n",
    "    \n",
    "    if analysis.sentiment.polarity > 0.0:\n",
    "        tweet_properties[\"sentimen\"] = \"positif\"\n",
    "    elif analysis.sentiment.polarity == 0.0:\n",
    "        tweet_properties[\"sentimen\"] = \"netral\"\n",
    "    else:\n",
    "        tweet_properties[\"sentimen\"] = \"negatif\"\n",
    "    \n",
    "    if tweet.retweet_count > 0:\n",
    "        if tweet_properties not in hasil:\n",
    "            hasil.append(tweet_properties)\n",
    "    else:\n",
    "        hasil.append(tweet_properties)\n",
    "    \n",
    "    print(tweet_properties['isi_tweet'])\n",
    "#     print(tweet_properties['isi_tweet'])"
   ]
  },
  {
   "cell_type": "code",
   "execution_count": 147,
   "id": "56abe47d",
   "metadata": {},
   "outputs": [],
   "source": [
    "# hasil"
   ]
  },
  {
   "cell_type": "code",
   "execution_count": 148,
   "id": "e3fb60d6",
   "metadata": {},
   "outputs": [],
   "source": [
    "df =  DataFrame(data = hasil)"
   ]
  },
  {
   "cell_type": "code",
   "execution_count": 149,
   "id": "4342ecea",
   "metadata": {},
   "outputs": [
    {
     "data": {
      "text/html": [
       "<div>\n",
       "<style scoped>\n",
       "    .dataframe tbody tr th:only-of-type {\n",
       "        vertical-align: middle;\n",
       "    }\n",
       "\n",
       "    .dataframe tbody tr th {\n",
       "        vertical-align: top;\n",
       "    }\n",
       "\n",
       "    .dataframe thead th {\n",
       "        text-align: right;\n",
       "    }\n",
       "</style>\n",
       "<table border=\"1\" class=\"dataframe\">\n",
       "  <thead>\n",
       "    <tr style=\"text-align: right;\">\n",
       "      <th></th>\n",
       "      <th>tanggal_tweet</th>\n",
       "      <th>pengguna</th>\n",
       "      <th>isi_tweet</th>\n",
       "      <th>sentimen</th>\n",
       "    </tr>\n",
       "  </thead>\n",
       "  <tbody>\n",
       "    <tr>\n",
       "      <th>0</th>\n",
       "      <td>2021-05-19 13:37:00</td>\n",
       "      <td>afsyad99</td>\n",
       "      <td>RT @melakaboy: Look. VAKSIN COVID yang paling ...</td>\n",
       "      <td>positif</td>\n",
       "    </tr>\n",
       "    <tr>\n",
       "      <th>1</th>\n",
       "      <td>2021-05-19 13:34:21</td>\n",
       "      <td>sakhayuv</td>\n",
       "      <td>@BTSVotingIndo @BTS_twt vaksin\\n\\nINDOMY HERE ...</td>\n",
       "      <td>netral</td>\n",
       "    </tr>\n",
       "    <tr>\n",
       "      <th>2</th>\n",
       "      <td>2021-05-19 13:31:35</td>\n",
       "      <td>nurthaqifah98</td>\n",
       "      <td>Ayah orang terakhir hari ni kena vaksin sebab ...</td>\n",
       "      <td>positif</td>\n",
       "    </tr>\n",
       "    <tr>\n",
       "      <th>3</th>\n",
       "      <td>2021-05-19 13:30:27</td>\n",
       "      <td>Mhdkmz_</td>\n",
       "      <td>Vaksin ni macam seatbelt actually .</td>\n",
       "      <td>netral</td>\n",
       "    </tr>\n",
       "    <tr>\n",
       "      <th>4</th>\n",
       "      <td>2021-05-19 13:29:28</td>\n",
       "      <td>jongjinsbeanie</td>\n",
       "      <td>@shimkoongnim Done my first dose last sunday. ...</td>\n",
       "      <td>positif</td>\n",
       "    </tr>\n",
       "  </tbody>\n",
       "</table>\n",
       "</div>"
      ],
      "text/plain": [
       "        tanggal_tweet        pengguna  \\\n",
       "0 2021-05-19 13:37:00        afsyad99   \n",
       "1 2021-05-19 13:34:21        sakhayuv   \n",
       "2 2021-05-19 13:31:35   nurthaqifah98   \n",
       "3 2021-05-19 13:30:27         Mhdkmz_   \n",
       "4 2021-05-19 13:29:28  jongjinsbeanie   \n",
       "\n",
       "                                           isi_tweet sentimen  \n",
       "0  RT @melakaboy: Look. VAKSIN COVID yang paling ...  positif  \n",
       "1  @BTSVotingIndo @BTS_twt vaksin\\n\\nINDOMY HERE ...   netral  \n",
       "2  Ayah orang terakhir hari ni kena vaksin sebab ...  positif  \n",
       "3                Vaksin ni macam seatbelt actually .   netral  \n",
       "4  @shimkoongnim Done my first dose last sunday. ...  positif  "
      ]
     },
     "execution_count": 149,
     "metadata": {},
     "output_type": "execute_result"
    }
   ],
   "source": [
    "df.head(5)"
   ]
  },
  {
   "cell_type": "code",
   "execution_count": 150,
   "id": "d2b0477b",
   "metadata": {},
   "outputs": [
    {
     "data": {
      "text/html": [
       "<div>\n",
       "<style scoped>\n",
       "    .dataframe tbody tr th:only-of-type {\n",
       "        vertical-align: middle;\n",
       "    }\n",
       "\n",
       "    .dataframe tbody tr th {\n",
       "        vertical-align: top;\n",
       "    }\n",
       "\n",
       "    .dataframe thead th {\n",
       "        text-align: right;\n",
       "    }\n",
       "</style>\n",
       "<table border=\"1\" class=\"dataframe\">\n",
       "  <thead>\n",
       "    <tr style=\"text-align: right;\">\n",
       "      <th></th>\n",
       "      <th>tanggal_tweet</th>\n",
       "      <th>pengguna</th>\n",
       "      <th>isi_tweet</th>\n",
       "      <th>sentimen</th>\n",
       "    </tr>\n",
       "  </thead>\n",
       "  <tbody>\n",
       "    <tr>\n",
       "      <th>13</th>\n",
       "      <td>2021-05-19 13:19:52</td>\n",
       "      <td>amrlhssn</td>\n",
       "      <td>RT @intnafqh_: @AdDien90 Please report this ac...</td>\n",
       "      <td>negatif</td>\n",
       "    </tr>\n",
       "    <tr>\n",
       "      <th>18</th>\n",
       "      <td>2021-05-19 13:08:33</td>\n",
       "      <td>acusme17</td>\n",
       "      <td>RT @intnafqh_: @AdDien90 Please report this ac...</td>\n",
       "      <td>negatif</td>\n",
       "    </tr>\n",
       "    <tr>\n",
       "      <th>39</th>\n",
       "      <td>2021-05-19 12:43:13</td>\n",
       "      <td>zrthaishaa</td>\n",
       "      <td>RT @intnafqh_: @AdDien90 Please report this ac...</td>\n",
       "      <td>negatif</td>\n",
       "    </tr>\n",
       "    <tr>\n",
       "      <th>40</th>\n",
       "      <td>2021-05-19 12:41:41</td>\n",
       "      <td>my_outdoor82</td>\n",
       "      <td>@SyafieMustafa Sadly i do have a friend like t...</td>\n",
       "      <td>negatif</td>\n",
       "    </tr>\n",
       "    <tr>\n",
       "      <th>47</th>\n",
       "      <td>2021-05-19 12:29:18</td>\n",
       "      <td>zulaikhajmldn</td>\n",
       "      <td>RT @intnafqh_: @AdDien90 Please report this ac...</td>\n",
       "      <td>negatif</td>\n",
       "    </tr>\n",
       "    <tr>\n",
       "      <th>50</th>\n",
       "      <td>2021-05-19 12:24:36</td>\n",
       "      <td>deijides</td>\n",
       "      <td>RT @intnafqh_: @AdDien90 Please report this ac...</td>\n",
       "      <td>negatif</td>\n",
       "    </tr>\n",
       "    <tr>\n",
       "      <th>58</th>\n",
       "      <td>2021-05-19 12:12:24</td>\n",
       "      <td>nrslnaa</td>\n",
       "      <td>RT @intnafqh_: @AdDien90 Please report this ac...</td>\n",
       "      <td>negatif</td>\n",
       "    </tr>\n",
       "    <tr>\n",
       "      <th>84</th>\n",
       "      <td>2021-05-19 11:41:14</td>\n",
       "      <td>mrymisml</td>\n",
       "      <td>The only sin i wish now is vaksin 🤲🏻\\n- dont g...</td>\n",
       "      <td>negatif</td>\n",
       "    </tr>\n",
       "    <tr>\n",
       "      <th>87</th>\n",
       "      <td>2021-05-19 11:37:15</td>\n",
       "      <td>ct_shrh</td>\n",
       "      <td>RT @intnafqh_: @AdDien90 Please report this ac...</td>\n",
       "      <td>negatif</td>\n",
       "    </tr>\n",
       "    <tr>\n",
       "      <th>93</th>\n",
       "      <td>2021-05-19 11:33:12</td>\n",
       "      <td>murni_sha</td>\n",
       "      <td>RT @rsharminz_: @841128idayu @HausofHilton Sor...</td>\n",
       "      <td>negatif</td>\n",
       "    </tr>\n",
       "  </tbody>\n",
       "</table>\n",
       "</div>"
      ],
      "text/plain": [
       "         tanggal_tweet       pengguna  \\\n",
       "13 2021-05-19 13:19:52       amrlhssn   \n",
       "18 2021-05-19 13:08:33       acusme17   \n",
       "39 2021-05-19 12:43:13     zrthaishaa   \n",
       "40 2021-05-19 12:41:41   my_outdoor82   \n",
       "47 2021-05-19 12:29:18  zulaikhajmldn   \n",
       "50 2021-05-19 12:24:36       deijides   \n",
       "58 2021-05-19 12:12:24        nrslnaa   \n",
       "84 2021-05-19 11:41:14       mrymisml   \n",
       "87 2021-05-19 11:37:15        ct_shrh   \n",
       "93 2021-05-19 11:33:12      murni_sha   \n",
       "\n",
       "                                            isi_tweet sentimen  \n",
       "13  RT @intnafqh_: @AdDien90 Please report this ac...  negatif  \n",
       "18  RT @intnafqh_: @AdDien90 Please report this ac...  negatif  \n",
       "39  RT @intnafqh_: @AdDien90 Please report this ac...  negatif  \n",
       "40  @SyafieMustafa Sadly i do have a friend like t...  negatif  \n",
       "47  RT @intnafqh_: @AdDien90 Please report this ac...  negatif  \n",
       "50  RT @intnafqh_: @AdDien90 Please report this ac...  negatif  \n",
       "58  RT @intnafqh_: @AdDien90 Please report this ac...  negatif  \n",
       "84  The only sin i wish now is vaksin 🤲🏻\\n- dont g...  negatif  \n",
       "87  RT @intnafqh_: @AdDien90 Please report this ac...  negatif  \n",
       "93  RT @rsharminz_: @841128idayu @HausofHilton Sor...  negatif  "
      ]
     },
     "execution_count": 150,
     "metadata": {},
     "output_type": "execute_result"
    }
   ],
   "source": [
    "df.loc[df['sentimen'] == 'negatif'].head(10)"
   ]
  },
  {
   "cell_type": "code",
   "execution_count": 151,
   "id": "2635ad61",
   "metadata": {},
   "outputs": [
    {
     "data": {
      "text/plain": [
       "negatif    12\n",
       "netral     17\n",
       "positif    71\n",
       "Name: sentimen, dtype: int64"
      ]
     },
     "execution_count": 151,
     "metadata": {},
     "output_type": "execute_result"
    }
   ],
   "source": [
    "df['sentimen'].value_counts(ascending=True)"
   ]
  },
  {
   "cell_type": "code",
   "execution_count": 152,
   "id": "b5774e96",
   "metadata": {},
   "outputs": [],
   "source": [
    "x = df['isi_tweet']\n",
    "y = df['sentimen']"
   ]
  },
  {
   "cell_type": "code",
   "execution_count": 153,
   "id": "abb1042e",
   "metadata": {},
   "outputs": [
    {
     "name": "stdout",
     "output_type": "stream",
     "text": [
      "(100,)\n",
      "[[1 0 0 ... 0 0 0]\n",
      " [0 0 0 ... 0 0 0]\n",
      " [0 0 0 ... 0 0 0]\n",
      " ...\n",
      " [0 0 0 ... 0 0 0]\n",
      " [0 0 0 ... 0 0 0]\n",
      " [0 0 0 ... 0 0 0]]\n",
      "shape of Sparse Matriks:  (100, 403)\n",
      "Amount of Non-Zero occurrences:  2122\n",
      "(100, 403)\n"
     ]
    }
   ],
   "source": [
    "bow_transformer = CountVectorizer()\n",
    "print(df['isi_tweet'].shape)\n",
    "x = bow_transformer.fit_transform(df['isi_tweet'])\n",
    "\n",
    "print(x.toarray())\n",
    "print('shape of Sparse Matriks: ', x.shape)\n",
    "print('Amount of Non-Zero occurrences: ', x.nnz)\n",
    "\n",
    "filename1 = 'count_vectorized2.pkl'\n",
    "pickle.dump(bow_transformer, open(filename1, 'wb'))\n",
    "\n",
    "tf_transform = TfidfTransformer(use_idf=False).fit(x)\n",
    "x = tf_transform.transform(x)\n",
    "print(x.shape)\n",
    "\n",
    "filename1 = 'tfid_transform2.pkl'\n",
    "pickle.dump(tf_transform, open(filename1, 'wb'))"
   ]
  },
  {
   "cell_type": "code",
   "execution_count": 154,
   "id": "3e474e63",
   "metadata": {},
   "outputs": [
    {
     "name": "stdout",
     "output_type": "stream",
     "text": [
      "Density: 5.265508684863524\n"
     ]
    }
   ],
   "source": [
    "density = (100.0 * x.nnz / (x.shape[0] * x.shape[1]))\n",
    "print('Density: {}'.format((density)))"
   ]
  },
  {
   "cell_type": "code",
   "execution_count": 155,
   "id": "9b3e84f8",
   "metadata": {},
   "outputs": [],
   "source": [
    "#splitting data\n",
    "x_train, x_test, y_train, y_test = train_test_split(x, y, test_size = 0.2)\n"
   ]
  },
  {
   "cell_type": "code",
   "execution_count": 156,
   "id": "614181a8",
   "metadata": {},
   "outputs": [],
   "source": [
    "#Naive Bayes Method \n",
    "#classifier data\n",
    "nb = MultinomialNB()\n",
    "nb.fit(x_train, y_train)\n",
    "preds = nb.predict(x_test)"
   ]
  },
  {
   "cell_type": "code",
   "execution_count": 157,
   "id": "ed6282dc",
   "metadata": {},
   "outputs": [
    {
     "name": "stdout",
     "output_type": "stream",
     "text": [
      "              precision    recall  f1-score   support\n",
      "\n",
      "     negatif       1.00      1.00      1.00         1\n",
      "      netral       0.00      0.00      0.00         3\n",
      "     positif       0.84      1.00      0.91        16\n",
      "\n",
      "    accuracy                           0.85        20\n",
      "   macro avg       0.61      0.67      0.64        20\n",
      "weighted avg       0.72      0.85      0.78        20\n",
      "\n"
     ]
    },
    {
     "name": "stderr",
     "output_type": "stream",
     "text": [
      "c:\\users\\asus\\appdata\\local\\programs\\python\\python37-32\\lib\\site-packages\\sklearn\\metrics\\_classification.py:1248: UndefinedMetricWarning: Precision and F-score are ill-defined and being set to 0.0 in labels with no predicted samples. Use `zero_division` parameter to control this behavior.\n",
      "  _warn_prf(average, modifier, msg_start, len(result))\n",
      "c:\\users\\asus\\appdata\\local\\programs\\python\\python37-32\\lib\\site-packages\\sklearn\\metrics\\_classification.py:1248: UndefinedMetricWarning: Precision and F-score are ill-defined and being set to 0.0 in labels with no predicted samples. Use `zero_division` parameter to control this behavior.\n",
      "  _warn_prf(average, modifier, msg_start, len(result))\n",
      "c:\\users\\asus\\appdata\\local\\programs\\python\\python37-32\\lib\\site-packages\\sklearn\\metrics\\_classification.py:1248: UndefinedMetricWarning: Precision and F-score are ill-defined and being set to 0.0 in labels with no predicted samples. Use `zero_division` parameter to control this behavior.\n",
      "  _warn_prf(average, modifier, msg_start, len(result))\n"
     ]
    }
   ],
   "source": [
    "print(classification_report(y_test, preds))"
   ]
  },
  {
   "cell_type": "code",
   "execution_count": 158,
   "id": "40b314e5",
   "metadata": {},
   "outputs": [
    {
     "name": "stderr",
     "output_type": "stream",
     "text": [
      "c:\\users\\asus\\appdata\\local\\programs\\python\\python37-32\\lib\\site-packages\\sklearn\\metrics\\_classification.py:1248: UndefinedMetricWarning: Precision and F-score are ill-defined and being set to 0.0 in labels with no predicted samples. Use `zero_division` parameter to control this behavior.\n",
      "  _warn_prf(average, modifier, msg_start, len(result))\n",
      "c:\\users\\asus\\appdata\\local\\programs\\python\\python37-32\\lib\\site-packages\\sklearn\\metrics\\_classification.py:1248: UndefinedMetricWarning: Precision and F-score are ill-defined and being set to 0.0 in labels with no predicted samples. Use `zero_division` parameter to control this behavior.\n",
      "  _warn_prf(average, modifier, msg_start, len(result))\n",
      "c:\\users\\asus\\appdata\\local\\programs\\python\\python37-32\\lib\\site-packages\\sklearn\\metrics\\_classification.py:1248: UndefinedMetricWarning: Precision and F-score are ill-defined and being set to 0.0 in labels with no predicted samples. Use `zero_division` parameter to control this behavior.\n",
      "  _warn_prf(average, modifier, msg_start, len(result))\n"
     ]
    }
   ],
   "source": [
    "from io import StringIO\n",
    "classification = classification_report(y_test, preds)\n",
    "s = StringIO(classification)\n",
    "with open('classification.csv', 'w') as f:\n",
    "    for line in s:\n",
    "        f.write(line)"
   ]
  },
  {
   "cell_type": "code",
   "execution_count": 159,
   "id": "ea852784",
   "metadata": {},
   "outputs": [
    {
     "name": "stdout",
     "output_type": "stream",
     "text": [
      "0.85\n"
     ]
    }
   ],
   "source": [
    "print (accuracy_score(y_test, preds))"
   ]
  },
  {
   "cell_type": "code",
   "execution_count": 160,
   "id": "74f921b3",
   "metadata": {},
   "outputs": [],
   "source": [
    "accuracy = accuracy_score(y_test,preds)\n",
    "a = np.asarray([accuracy])\n",
    "np.savetxt('accuracy.csv', a, delimiter=',', fmt='%s')"
   ]
  },
  {
   "cell_type": "code",
   "execution_count": 161,
   "id": "cc9908fd",
   "metadata": {},
   "outputs": [],
   "source": [
    "Final = df[['tanggal_tweet','pengguna','isi_tweet','sentimen']]"
   ]
  },
  {
   "cell_type": "code",
   "execution_count": 162,
   "id": "b5c8ad97",
   "metadata": {},
   "outputs": [],
   "source": [
    "Final.to_csv('hasil_analysis.csv')"
   ]
  },
  {
   "cell_type": "code",
   "execution_count": 163,
   "id": "fc054c9b",
   "metadata": {},
   "outputs": [
    {
     "data": {
      "text/plain": [
       "LogisticRegression()"
      ]
     },
     "execution_count": 163,
     "metadata": {},
     "output_type": "execute_result"
    }
   ],
   "source": [
    "model = LogisticRegression()\n",
    "model.fit(x_train, y_train)"
   ]
  },
  {
   "cell_type": "code",
   "execution_count": 164,
   "id": "e1c561c0",
   "metadata": {},
   "outputs": [],
   "source": [
    "filename = 'model_analisis.pkl'\n",
    "pickle.dump(model, open(filename, 'wb'))"
   ]
  },
  {
   "cell_type": "code",
   "execution_count": 165,
   "id": "e440ae25",
   "metadata": {},
   "outputs": [
    {
     "name": "stdout",
     "output_type": "stream",
     "text": [
      "0.85\n"
     ]
    }
   ],
   "source": [
    "loaded_model = pickle.load(open(filename, 'rb'))\n",
    "result = loaded_model.score(x_test, y_test)\n",
    "print(result)"
   ]
  },
  {
   "cell_type": "code",
   "execution_count": 166,
   "id": "b4bdd469",
   "metadata": {},
   "outputs": [
    {
     "data": {
      "text/plain": [
       "array(['positif', 'positif', 'positif', 'positif', 'positif', 'positif',\n",
       "       'negatif', 'positif', 'positif', 'positif', 'positif', 'positif',\n",
       "       'positif', 'positif', 'positif', 'positif', 'positif', 'positif',\n",
       "       'positif', 'positif'], dtype=object)"
      ]
     },
     "execution_count": 166,
     "metadata": {},
     "output_type": "execute_result"
    }
   ],
   "source": [
    "loaded_model.predict(x_test)"
   ]
  },
  {
   "cell_type": "code",
   "execution_count": null,
   "id": "e9edbc58",
   "metadata": {},
   "outputs": [],
   "source": []
  }
 ],
 "metadata": {
  "kernelspec": {
   "display_name": "Python 3",
   "language": "python",
   "name": "python3"
  },
  "language_info": {
   "codemirror_mode": {
    "name": "ipython",
    "version": 3
   },
   "file_extension": ".py",
   "mimetype": "text/x-python",
   "name": "python",
   "nbconvert_exporter": "python",
   "pygments_lexer": "ipython3",
   "version": "3.7.2"
  }
 },
 "nbformat": 4,
 "nbformat_minor": 5
}
